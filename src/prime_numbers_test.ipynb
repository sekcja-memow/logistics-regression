{
 "cells": [
  {
   "cell_type": "code",
   "execution_count": 1,
   "metadata": {},
   "outputs": [
    {
     "name": "stdout",
     "output_type": "stream",
     "text": [
      "Requirement already satisfied: numpy>=1.19.4 in d:\\p\\anaconda\\lib\\site-packages (from -r ../requirements.txt (line 1)) (1.19.4)\n",
      "Requirement already satisfied: idx2numpy>=1.2.3 in d:\\p\\anaconda\\lib\\site-packages (from -r ../requirements.txt (line 2)) (1.2.3)\n",
      "Requirement already satisfied: requests>=2.25.0 in c:\\users\\karol\\appdata\\roaming\\python\\python37\\site-packages (from -r ../requirements.txt (line 3)) (2.25.0)\n",
      "Requirement already satisfied: sklearn>=0.0 in c:\\users\\karol\\appdata\\roaming\\python\\python37\\site-packages (from -r ../requirements.txt (line 4)) (0.0)\n",
      "Requirement already satisfied: matplotlib>=3.3.2 in d:\\p\\anaconda\\lib\\site-packages (from -r ../requirements.txt (line 5)) (3.3.3)\n",
      "Requirement already satisfied: six in d:\\p\\anaconda\\lib\\site-packages (from idx2numpy>=1.2.3->-r ../requirements.txt (line 2)) (1.15.0)\n",
      "Requirement already satisfied: chardet<4,>=3.0.2 in d:\\p\\anaconda\\lib\\site-packages (from requests>=2.25.0->-r ../requirements.txt (line 3)) (3.0.4)\n",
      "Requirement already satisfied: certifi>=2017.4.17 in d:\\p\\anaconda\\lib\\site-packages (from requests>=2.25.0->-r ../requirements.txt (line 3)) (2020.6.20)\n",
      "Requirement already satisfied: idna<3,>=2.5 in d:\\p\\anaconda\\lib\\site-packages (from requests>=2.25.0->-r ../requirements.txt (line 3)) (2.10)\n",
      "Requirement already satisfied: urllib3<1.27,>=1.21.1 in d:\\p\\anaconda\\lib\\site-packages (from requests>=2.25.0->-r ../requirements.txt (line 3)) (1.25.9)\n",
      "Requirement already satisfied: scikit-learn in d:\\p\\anaconda\\lib\\site-packages (from sklearn>=0.0->-r ../requirements.txt (line 4)) (0.22.1)\n",
      "Requirement already satisfied: python-dateutil>=2.1 in d:\\p\\anaconda\\lib\\site-packages (from matplotlib>=3.3.2->-r ../requirements.txt (line 5)) (2.8.1)\n",
      "Requirement already satisfied: pillow>=6.2.0 in d:\\p\\anaconda\\lib\\site-packages (from matplotlib>=3.3.2->-r ../requirements.txt (line 5)) (7.0.0)\n",
      "Requirement already satisfied: pyparsing!=2.0.4,!=2.1.2,!=2.1.6,>=2.0.3 in d:\\p\\anaconda\\lib\\site-packages (from matplotlib>=3.3.2->-r ../requirements.txt (line 5)) (2.4.6)\n",
      "Requirement already satisfied: kiwisolver>=1.0.1 in d:\\p\\anaconda\\lib\\site-packages (from matplotlib>=3.3.2->-r ../requirements.txt (line 5)) (1.1.0)\n",
      "Requirement already satisfied: cycler>=0.10 in d:\\p\\anaconda\\lib\\site-packages (from matplotlib>=3.3.2->-r ../requirements.txt (line 5)) (0.10.0)\n",
      "Requirement already satisfied: joblib>=0.11 in d:\\p\\anaconda\\lib\\site-packages (from scikit-learn->sklearn>=0.0->-r ../requirements.txt (line 4)) (0.14.1)\n",
      "Requirement already satisfied: scipy>=0.17.0 in d:\\p\\anaconda\\lib\\site-packages (from scikit-learn->sklearn>=0.0->-r ../requirements.txt (line 4)) (1.4.1)\n",
      "Requirement already satisfied: setuptools in d:\\p\\anaconda\\lib\\site-packages (from kiwisolver>=1.0.1->matplotlib>=3.3.2->-r ../requirements.txt (line 5)) (45.2.0.post20200210)\n"
     ]
    },
    {
     "name": "stderr",
     "output_type": "stream",
     "text": [
      "WARNING: You are using pip version 20.2.3; however, version 20.3.1 is available.\n",
      "You should consider upgrading via the 'd:\\p\\anaconda\\python.exe -m pip install --upgrade pip' command.\n"
     ]
    }
   ],
   "source": [
    "# required packages installation\n",
    "\n",
    "!pip install -r ../requirements.txt"
   ]
  },
  {
   "cell_type": "code",
   "execution_count": 2,
   "metadata": {},
   "outputs": [],
   "source": [
    "# importing model and required components\n",
    "from core.models import LogisticRegression\n",
    "from core.optimizers import *\n",
    "from core.regularizers import *\n",
    "\n",
    "# imports for data loading\n",
    "from requests import get\n",
    "import idx2numpy\n",
    "import gzip\n",
    "import shutil\n",
    "import os\n",
    "\n",
    "# import for data processing and analysis\n",
    "import numpy as np\n",
    "from sklearn.metrics import classification_report\n",
    "import matplotlib.pyplot as plt\n",
    "from sklearn.model_selection import cross_val_score\n",
    "\n",
    "# warnings ignoring\n",
    "import warnings; warnings.simplefilter('ignore')"
   ]
  },
  {
   "cell_type": "markdown",
   "metadata": {},
   "source": [
    "## Data loading"
   ]
  },
  {
   "cell_type": "code",
   "execution_count": 3,
   "metadata": {},
   "outputs": [],
   "source": [
    "# data downloading and preprocessing function\n",
    "        \n",
    "def load_data():\n",
    "    \n",
    "    urls = []\n",
    "    urls.append('http://yann.lecun.com/exdb/mnist/train-images-idx3-ubyte.gz')\n",
    "    urls.append('http://yann.lecun.com/exdb/mnist/train-labels-idx1-ubyte.gz')\n",
    "    urls.append('http://yann.lecun.com/exdb/mnist/t10k-images-idx3-ubyte.gz')\n",
    "    urls.append('http://yann.lecun.com/exdb/mnist/t10k-labels-idx1-ubyte.gz')\n",
    "    \n",
    "    print('Downloading data...')\n",
    "    responses = [get(url, allow_redirects=True) for url in urls]\n",
    "    \n",
    "    names = ['train_images', 'train_labels', 'test_images', 'test_labels']\n",
    "    \n",
    "    for index, response in enumerate(responses):\n",
    "        open(f'./datasets/prime_numbers/{names[index]}-gz', 'wb').write(response.content)\n",
    "        \n",
    "    print('Unpacking files...')\n",
    "    for name in names:\n",
    "        with gzip.open(f'./datasets/prime_numbers/{name}-gz', 'rb') as f_in:\n",
    "            with open(f'./datasets/prime_numbers/{name}', 'wb') as f_out:\n",
    "                shutil.copyfileobj(f_in, f_out)\n",
    " \n",
    "    for name in names:\n",
    "        os.remove(f'./datasets/prime_numbers/{name}-gz')\n",
    "\n",
    "    f_read = open('./datasets/prime_numbers/train-images','rb')\n",
    "    X_train = idx2numpy.convert_from_file(f_read)\n",
    "\n",
    "    f_read = open('./datasets/prime_numbers/train-labels', 'rb')\n",
    "    y_train = idx2numpy.convert_from_file(f_read)\n",
    "\n",
    "    f_read = open('./datasets/prime_numbers/test-images', 'rb')\n",
    "    X_test = idx2numpy.convert_from_file(f_read)\n",
    "    \n",
    "    f_read = open('./datasets/prime_numbers/test-labels', 'rb')\n",
    "    y_test = idx2numpy.convert_from_file(f_read)\n",
    "\n",
    "\n",
    "    X_train = X_train.reshape(len(X_train), 784)\n",
    "    X_test = X_test.reshape(len(X_test), 784)\n",
    "\n",
    "\n",
    "    tmp_X = []\n",
    "    tmp_y = []\n",
    "\n",
    "    for index,label in enumerate(y_train):\n",
    "        if label in [2,3,5,7]:\n",
    "            tmp_X.append(X_train[index])\n",
    "            tmp_y.append(1)\n",
    "        elif label in [4,6,8,9]:\n",
    "            tmp_X.append(X_train[index])\n",
    "            tmp_y.append(0)\n",
    "\n",
    "    tmp_X_test = []\n",
    "    tmp_y_test = []\n",
    "\n",
    "    for index,label in enumerate(y_test):\n",
    "        if label in [2,3,5,7]:\n",
    "            tmp_X_test.append(X_test[index])\n",
    "            tmp_y_test.append(1)\n",
    "        elif label in [4,6,8,9]:\n",
    "            tmp_X_test.append(X_test[index])\n",
    "            tmp_y_test.append(0)\n",
    "\n",
    "\n",
    "    X_train = np.array(tmp_X)\n",
    "    X_test = np.array(tmp_X_test)\n",
    "    y_train = np.array(tmp_y)\n",
    "    y_test = np.array(tmp_y_test)\n",
    "    \n",
    "    print('Data loading finished!')\n",
    "    \n",
    "    return X_train, X_test, y_train, y_test"
   ]
  },
  {
   "cell_type": "code",
   "execution_count": 4,
   "metadata": {},
   "outputs": [
    {
     "name": "stdout",
     "output_type": "stream",
     "text": [
      "Downloading data...\n",
      "Unpacking files...\n",
      "Data loading finished!\n"
     ]
    }
   ],
   "source": [
    "# data loading\n",
    "\n",
    "X_train_raw, X_test, y_train_raw, y_test = load_data()"
   ]
  },
  {
   "cell_type": "markdown",
   "metadata": {},
   "source": [
    "## Data visualization"
   ]
  },
  {
   "cell_type": "code",
   "execution_count": 5,
   "metadata": {},
   "outputs": [
    {
     "name": "stdout",
     "output_type": "stream",
     "text": [
      "Num of our training samples: \t 47335\n",
      "Num of our testing samples: \t 7885\n"
     ]
    }
   ],
   "source": [
    "print(\"Num of our training samples: \\t\", X_train_raw.shape[0])\n",
    "print(\"Num of our testing samples: \\t\", X_test.shape[0])"
   ]
  },
  {
   "cell_type": "code",
   "execution_count": 6,
   "metadata": {},
   "outputs": [
    {
     "data": {
      "image/png": "[encoded data removed]",
      "text/plain": [
       "<Figure size 432x288 with 1 Axes>"
      ]
     },
     "metadata": {
      "needs_background": "light"
     },
     "output_type": "display_data"
    }
   ],
   "source": [
    "# single record visualization \n",
    "\n",
    "number = np.reshape(X_train_raw[0], (28,28))\n",
    "plt.imshow(number, cmap='gray')\n",
    "plt.show()"
   ]
  },
  {
   "cell_type": "code",
   "execution_count": 7,
   "metadata": {},
   "outputs": [
    {
     "name": "stdout",
     "output_type": "stream",
     "text": [
      "[  0   0   0   0   0   0   0   0   0   0   0   0   0   0   0   0   0   0\n",
      "   0   0   0   0   0   0   0   0   0   0   0   0   0   0   0   0   0   0\n",
      "   0   0   0   0   0   0   0   0   0   0   0   0   0   0   0   0   0   0\n",
      "   0   0   0   0   0   0   0   0   0   0   0   0   0   0   0   0   0   0\n",
      "   0   0   0   0   0   0   0   0   0   0   0   0   0   0   0   0   0   0\n",
      "   0   0   0   0   0   0   0   0   0   0   0   0   0   0   0   0   0   0\n",
      "   0   0   0   0   0   0   0   0   0   0   0   0   0   0   0   0   0   0\n",
      "   0   0   0   0   0   0   0   0   0   0   0   0   0   0   0   0   0   0\n",
      "   0   0   0   0   0   0   0   0   3  18  18  18 126 136 175  26 166 255\n",
      " 247 127   0   0   0   0   0   0   0   0   0   0   0   0  30  36  94 154\n",
      " 170 253 253 253 253 253 225 172 253 242 195  64   0   0   0   0   0   0\n",
      "   0   0   0   0   0  49 238 253 253 253 253 253 253 253 253 251  93  82\n",
      "  82  56  39   0   0   0   0   0   0   0   0   0   0   0   0  18 219 253\n",
      " 253 253 253 253 198 182 247 241   0   0   0   0   0   0   0   0   0   0\n",
      "   0   0   0   0   0   0   0   0  80 156 107 253 253 205  11   0  43 154\n",
      "   0   0   0   0   0   0   0   0   0   0   0   0   0   0   0   0   0   0\n",
      "   0  14   1 154 253  90   0   0   0   0   0   0   0   0   0   0   0   0\n",
      "   0   0   0   0   0   0   0   0   0   0   0   0   0 139 253 190   2   0\n",
      "   0   0   0   0   0   0   0   0   0   0   0   0   0   0   0   0   0   0\n",
      "   0   0   0   0   0  11 190 253  70   0   0   0   0   0   0   0   0   0\n",
      "   0   0   0   0   0   0   0   0   0   0   0   0   0   0   0   0  35 241\n",
      " 225 160 108   1   0   0   0   0   0   0   0   0   0   0   0   0   0   0\n",
      "   0   0   0   0   0   0   0   0   0  81 240 253 253 119  25   0   0   0\n",
      "   0   0   0   0   0   0   0   0   0   0   0   0   0   0   0   0   0   0\n",
      "   0   0  45 186 253 253 150  27   0   0   0   0   0   0   0   0   0   0\n",
      "   0   0   0   0   0   0   0   0   0   0   0   0   0  16  93 252 253 187\n",
      "   0   0   0   0   0   0   0   0   0   0   0   0   0   0   0   0   0   0\n",
      "   0   0   0   0   0   0   0 249 253 249  64   0   0   0   0   0   0   0\n",
      "   0   0   0   0   0   0   0   0   0   0   0   0   0   0  46 130 183 253\n",
      " 253 207   2   0   0   0   0   0   0   0   0   0   0   0   0   0   0   0\n",
      "   0   0   0   0  39 148 229 253 253 253 250 182   0   0   0   0   0   0\n",
      "   0   0   0   0   0   0   0   0   0   0   0   0  24 114 221 253 253 253\n",
      " 253 201  78   0   0   0   0   0   0   0   0   0   0   0   0   0   0   0\n",
      "   0   0  23  66 213 253 253 253 253 198  81   2   0   0   0   0   0   0\n",
      "   0   0   0   0   0   0   0   0   0   0  18 171 219 253 253 253 253 195\n",
      "  80   9   0   0   0   0   0   0   0   0   0   0   0   0   0   0   0   0\n",
      "  55 172 226 253 253 253 253 244 133  11   0   0   0   0   0   0   0   0\n",
      "   0   0   0   0   0   0   0   0   0   0 136 253 253 253 212 135 132  16\n",
      "   0   0   0   0   0   0   0   0   0   0   0   0   0   0   0   0   0   0\n",
      "   0   0   0   0   0   0   0   0   0   0   0   0   0   0   0   0   0   0\n",
      "   0   0   0   0   0   0   0   0   0   0   0   0   0   0   0   0   0   0\n",
      "   0   0   0   0   0   0   0   0   0   0   0   0   0   0   0   0   0   0\n",
      "   0   0   0   0   0   0   0   0   0   0   0   0   0   0   0   0   0   0\n",
      "   0   0   0   0   0   0   0   0   0   0]\n"
     ]
    }
   ],
   "source": [
    "# training sample\n",
    "\n",
    "print(X_train_raw[0])"
   ]
  },
  {
   "cell_type": "code",
   "execution_count": 8,
   "metadata": {},
   "outputs": [
    {
     "data": {
      "image/png": "[encoded data removed]",
      "text/plain": [
       "<Figure size 1152x576 with 8 Axes>"
      ]
     },
     "metadata": {
      "needs_background": "light"
     },
     "output_type": "display_data"
    }
   ],
   "source": [
    "# some examples with labels\n",
    "\n",
    "plt.figure(figsize=(16,8))\n",
    "\n",
    "for i, (X, label) in enumerate(zip(X_train_raw[0:8], y_train_raw[0:8])):\n",
    "    plt.subplot(2, 4, i + 1)\n",
    "    plt.title(f'Label: {label}', fontsize = 20)\n",
    "    plt.axis('off')\n",
    "    plt.imshow(np.reshape(X, (28,28)), cmap='gray')\n",
    "plt.show()"
   ]
  },
  {
   "cell_type": "code",
   "execution_count": 9,
   "metadata": {},
   "outputs": [],
   "source": [
    "# taking num of samples we want to train aur model on \n",
    "\n",
    "num_of_samples = 10000\n",
    "\n",
    "X_train = X_train_raw[:num_of_samples]\n",
    "y_train = y_train_raw[:num_of_samples]"
   ]
  },
  {
   "cell_type": "markdown",
   "metadata": {},
   "source": [
    "## Default model efficienty"
   ]
  },
  {
   "cell_type": "code",
   "execution_count": 10,
   "metadata": {},
   "outputs": [],
   "source": [
    "# cross validation score determination on model with default parameters\n",
    "\n",
    "model = LogisticRegression()\n",
    "result = cross_val_score(model, X_train, y_train, cv=5, scoring='accuracy', error_score='raise')"
   ]
  },
  {
   "cell_type": "code",
   "execution_count": 11,
   "metadata": {},
   "outputs": [
    {
     "name": "stdout",
     "output_type": "stream",
     "text": [
      "Cross validation result\n",
      "[0.9125 0.881  0.912  0.8985 0.82  ]\n",
      "Cross validation mean\n",
      "0.8847999999999999\n"
     ]
    }
   ],
   "source": [
    "print('Cross validation result')\n",
    "print(result)\n",
    "print('Cross validation mean')\n",
    "print(np.mean(result))"
   ]
  },
  {
   "cell_type": "markdown",
   "metadata": {},
   "source": [
    "## Optimizers testing"
   ]
  },
  {
   "cell_type": "markdown",
   "metadata": {},
   "source": [
    "##### A Classification report is used to measure the quality of predictions from a classification algorithm. \n",
    "##### Main scores: \n",
    "##### **Precision** – What percent of your predictions were correct? (Precision = TP/(TP + FP))\n",
    "##### **Recall** – What percent of the positive cases did you catch? (Recall = TP/(TP+FN))\n",
    "##### **F1 score** – What percent of positive predictions were correct? (F1 Score = 2*(Recall * Precision) / (Recall + Precision))\n"
   ]
  },
  {
   "cell_type": "code",
   "execution_count": 12,
   "metadata": {},
   "outputs": [],
   "source": [
    "# appending all optimizers to check their efficiency\n",
    "\n",
    "optimizers = []\n",
    "\n",
    "optimizers.append(GradientDescentOptimizer())\n",
    "optimizers.append(MomentumGradientDescentOptimizer())\n",
    "optimizers.append(AdaGradOptimizer())\n",
    "optimizers.append(RMSPropOptimizer())"
   ]
  },
  {
   "cell_type": "code",
   "execution_count": 13,
   "metadata": {},
   "outputs": [
    {
     "name": "stdout",
     "output_type": "stream",
     "text": [
      "================================================================================\n",
      "                 GradientDescentOptimizer(learning_rate: 0.03)                  \n",
      "================================================================================\n",
      "              precision    recall  f1-score   support\n",
      "\n",
      "           0       0.91      0.91      0.91      3923\n",
      "           1       0.91      0.91      0.91      3962\n",
      "\n",
      "    accuracy                           0.91      7885\n",
      "   macro avg       0.91      0.91      0.91      7885\n",
      "weighted avg       0.91      0.91      0.91      7885\n",
      "\n",
      "================================================================================\n",
      "   MomentumGradientDescentOptimizer(learning_rate: 0.03, momentum_rate: 0.9)    \n",
      "================================================================================\n",
      "              precision    recall  f1-score   support\n",
      "\n",
      "           0       0.93      0.85      0.89      3923\n",
      "           1       0.86      0.94      0.90      3962\n",
      "\n",
      "    accuracy                           0.90      7885\n",
      "   macro avg       0.90      0.90      0.90      7885\n",
      "weighted avg       0.90      0.90      0.90      7885\n",
      "\n",
      "================================================================================\n",
      "             AdaGradOptimizer(learning_rate: 0.03, epsilon: 1e-07)              \n",
      "================================================================================\n",
      "              precision    recall  f1-score   support\n",
      "\n",
      "           0       0.91      0.92      0.91      3923\n",
      "           1       0.92      0.91      0.91      3962\n",
      "\n",
      "    accuracy                           0.91      7885\n",
      "   macro avg       0.91      0.91      0.91      7885\n",
      "weighted avg       0.91      0.91      0.91      7885\n",
      "\n",
      "================================================================================\n",
      "        RMSPropOptimizer(learning_rate: 0.03, beta: 0.9, epsilon: 1e-07)        \n",
      "================================================================================\n",
      "              precision    recall  f1-score   support\n",
      "\n",
      "           0       0.92      0.92      0.92      3923\n",
      "           1       0.92      0.92      0.92      3962\n",
      "\n",
      "    accuracy                           0.92      7885\n",
      "   macro avg       0.92      0.92      0.92      7885\n",
      "weighted avg       0.92      0.92      0.92      7885\n",
      "\n"
     ]
    }
   ],
   "source": [
    "# regularizer=RidgeRegularizer(), num_iterations=300, threshold=0.5, fit_intercept=True, verbose=False\n",
    "\n",
    "for optimizer in optimizers:\n",
    "    model = LogisticRegression(optimizer = optimizer)\n",
    "    model.fit(X_train_raw, y_train_raw)\n",
    "    y_pred = model.predict(X_test)\n",
    "    print(\"=\"*80)\n",
    "    print(str(optimizer).center(80, ' '))\n",
    "    print(\"=\"*80)\n",
    "    print(classification_report(y_test, y_pred))"
   ]
  },
  {
   "cell_type": "markdown",
   "metadata": {},
   "source": [
    "## Regularizers testing"
   ]
  },
  {
   "cell_type": "code",
   "execution_count": 14,
   "metadata": {},
   "outputs": [],
   "source": [
    "# appending all regularizers to check their efficiency\n",
    "\n",
    "regularizers = []\n",
    "\n",
    "regularizers.append(LassoRegularizer())\n",
    "regularizers.append(RidgeRegularizer())\n",
    "regularizers.append(ElasticNetRegularizer())"
   ]
  },
  {
   "cell_type": "code",
   "execution_count": 15,
   "metadata": {},
   "outputs": [
    {
     "name": "stdout",
     "output_type": "stream",
     "text": [
      "================================================================================\n",
      "        RMSPropOptimizer(learning_rate: 0.03, beta: 0.9, epsilon: 1e-07)        \n",
      "================================================================================\n",
      "              precision    recall  f1-score   support\n",
      "\n",
      "           0       0.93      0.89      0.91      3923\n",
      "           1       0.90      0.94      0.92      3962\n",
      "\n",
      "    accuracy                           0.92      7885\n",
      "   macro avg       0.92      0.91      0.91      7885\n",
      "weighted avg       0.92      0.92      0.91      7885\n",
      "\n",
      "================================================================================\n",
      "        RMSPropOptimizer(learning_rate: 0.03, beta: 0.9, epsilon: 1e-07)        \n",
      "================================================================================\n",
      "              precision    recall  f1-score   support\n",
      "\n",
      "           0       0.82      0.98      0.89      3923\n",
      "           1       0.97      0.78      0.87      3962\n",
      "\n",
      "    accuracy                           0.88      7885\n",
      "   macro avg       0.89      0.88      0.88      7885\n",
      "weighted avg       0.89      0.88      0.88      7885\n",
      "\n",
      "================================================================================\n",
      "        RMSPropOptimizer(learning_rate: 0.03, beta: 0.9, epsilon: 1e-07)        \n",
      "================================================================================\n",
      "              precision    recall  f1-score   support\n",
      "\n",
      "           0       0.90      0.94      0.92      3923\n",
      "           1       0.94      0.89      0.92      3962\n",
      "\n",
      "    accuracy                           0.92      7885\n",
      "   macro avg       0.92      0.92      0.92      7885\n",
      "weighted avg       0.92      0.92      0.92      7885\n",
      "\n"
     ]
    }
   ],
   "source": [
    "# optimizer=RMSPropOptimizer, num_iterations=300, threshold=0.5, fit_intercept=True, verbose=False\n",
    "\n",
    "for regularizer in regularizers:\n",
    "    model = LogisticRegression(regularizer = regularizer)\n",
    "    model.fit(X_train_raw, y_train_raw)\n",
    "    y_pred = model.predict(X_test)\n",
    "    print(\"=\"*80)\n",
    "    print(str(optimizer).center(80, ' '))\n",
    "    print(\"=\"*80)\n",
    "    print(classification_report(y_test, y_pred))"
   ]
  },
  {
   "cell_type": "markdown",
   "metadata": {},
   "source": [
    "### Number of samples testing"
   ]
  },
  {
   "cell_type": "markdown",
   "metadata": {},
   "source": [
    "###### We should also test how numbers of samples affects on our scores"
   ]
  },
  {
   "cell_type": "code",
   "execution_count": 16,
   "metadata": {},
   "outputs": [
    {
     "name": "stdout",
     "output_type": "stream",
     "text": [
      "Number of all samples:  47335\n"
     ]
    }
   ],
   "source": [
    "print('Number of all samples: ', len(X_train_raw))"
   ]
  },
  {
   "cell_type": "code",
   "execution_count": 17,
   "metadata": {},
   "outputs": [],
   "source": [
    "num_of_samples = [5, 100, 500, 1000, 2000, 5000, 10000, 20000]"
   ]
  },
  {
   "cell_type": "code",
   "execution_count": 18,
   "metadata": {},
   "outputs": [
    {
     "name": "stdout",
     "output_type": "stream",
     "text": [
      "====================\" 5 samples \"====================\n",
      "              precision    recall  f1-score   support\n",
      "\n",
      "           0       0.70      0.58      0.63      3923\n",
      "           1       0.64      0.75      0.69      3962\n",
      "\n",
      "    accuracy                           0.67      7885\n",
      "   macro avg       0.67      0.67      0.66      7885\n",
      "weighted avg       0.67      0.67      0.66      7885\n",
      "\n",
      "===================\" 100 samples \"===================\n",
      "              precision    recall  f1-score   support\n",
      "\n",
      "           0       0.76      0.90      0.82      3923\n",
      "           1       0.87      0.72      0.79      3962\n",
      "\n",
      "    accuracy                           0.81      7885\n",
      "   macro avg       0.82      0.81      0.81      7885\n",
      "weighted avg       0.82      0.81      0.81      7885\n",
      "\n",
      "===================\" 1000 samples \"==================\n",
      "              precision    recall  f1-score   support\n",
      "\n",
      "           0       0.92      0.81      0.86      3923\n",
      "           1       0.83      0.93      0.88      3962\n",
      "\n",
      "    accuracy                           0.87      7885\n",
      "   macro avg       0.88      0.87      0.87      7885\n",
      "weighted avg       0.88      0.87      0.87      7885\n",
      "\n",
      "===================\" 2000 samples \"==================\n",
      "              precision    recall  f1-score   support\n",
      "\n",
      "           0       0.72      0.98      0.83      3923\n",
      "           1       0.97      0.62      0.76      3962\n",
      "\n",
      "    accuracy                           0.80      7885\n",
      "   macro avg       0.84      0.80      0.79      7885\n",
      "weighted avg       0.85      0.80      0.79      7885\n",
      "\n",
      "===================\" 5000 samples \"==================\n",
      "              precision    recall  f1-score   support\n",
      "\n",
      "           0       0.86      0.95      0.90      3923\n",
      "           1       0.95      0.84      0.89      3962\n",
      "\n",
      "    accuracy                           0.90      7885\n",
      "   macro avg       0.90      0.90      0.90      7885\n",
      "weighted avg       0.90      0.90      0.90      7885\n",
      "\n",
      "==================\" 10000 samples \"==================\n",
      "              precision    recall  f1-score   support\n",
      "\n",
      "           0       0.88      0.94      0.91      3923\n",
      "           1       0.94      0.88      0.91      3962\n",
      "\n",
      "    accuracy                           0.91      7885\n",
      "   macro avg       0.91      0.91      0.91      7885\n",
      "weighted avg       0.91      0.91      0.91      7885\n",
      "\n",
      "==================\" 20000 samples \"==================\n",
      "              precision    recall  f1-score   support\n",
      "\n",
      "           0       0.93      0.90      0.91      3923\n",
      "           1       0.90      0.93      0.92      3962\n",
      "\n",
      "    accuracy                           0.91      7885\n",
      "   macro avg       0.91      0.91      0.91      7885\n",
      "weighted avg       0.91      0.91      0.91      7885\n",
      "\n"
     ]
    }
   ],
   "source": [
    "for num in num_of_samples:\n",
    "    model = LogisticRegression()\n",
    "    model.fit(X_train_raw[:num], y_train_raw[:num])\n",
    "    y_pred = model.predict(X_test)\n",
    "    print(('\" '+ str(num) +' samples \"').center(53, '='))\n",
    "    print(classification_report(y_test, y_pred))"
   ]
  },
  {
   "cell_type": "markdown",
   "metadata": {},
   "source": [
    "### Number of iterations testing"
   ]
  },
  {
   "cell_type": "code",
   "execution_count": 19,
   "metadata": {},
   "outputs": [],
   "source": [
    "num_of_iterations = [100, 300, 500, 1000, 3000]"
   ]
  },
  {
   "cell_type": "code",
   "execution_count": 20,
   "metadata": {},
   "outputs": [
    {
     "name": "stdout",
     "output_type": "stream",
     "text": [
      "==================\" 100 iterations \"=================\n",
      "              precision    recall  f1-score   support\n",
      "\n",
      "           0       0.95      0.82      0.88      3923\n",
      "           1       0.84      0.96      0.89      3962\n",
      "\n",
      "    accuracy                           0.89      7885\n",
      "   macro avg       0.89      0.89      0.89      7885\n",
      "weighted avg       0.89      0.89      0.89      7885\n",
      "\n",
      "==================\" 300 iterations \"=================\n",
      "              precision    recall  f1-score   support\n",
      "\n",
      "           0       0.97      0.24      0.39      3923\n",
      "           1       0.57      0.99      0.72      3962\n",
      "\n",
      "    accuracy                           0.62      7885\n",
      "   macro avg       0.77      0.62      0.56      7885\n",
      "weighted avg       0.77      0.62      0.56      7885\n",
      "\n",
      "==================\" 500 iterations \"=================\n",
      "              precision    recall  f1-score   support\n",
      "\n",
      "           0       0.92      0.90      0.91      3923\n",
      "           1       0.90      0.93      0.91      3962\n",
      "\n",
      "    accuracy                           0.91      7885\n",
      "   macro avg       0.91      0.91      0.91      7885\n",
      "weighted avg       0.91      0.91      0.91      7885\n",
      "\n",
      "=================\" 1000 iterations \"=================\n",
      "              precision    recall  f1-score   support\n",
      "\n",
      "           0       0.92      0.89      0.91      3923\n",
      "           1       0.90      0.93      0.91      3962\n",
      "\n",
      "    accuracy                           0.91      7885\n",
      "   macro avg       0.91      0.91      0.91      7885\n",
      "weighted avg       0.91      0.91      0.91      7885\n",
      "\n",
      "=================\" 3000 iterations \"=================\n",
      "              precision    recall  f1-score   support\n",
      "\n",
      "           0       0.92      0.88      0.90      3923\n",
      "           1       0.89      0.93      0.91      3962\n",
      "\n",
      "    accuracy                           0.90      7885\n",
      "   macro avg       0.90      0.90      0.90      7885\n",
      "weighted avg       0.90      0.90      0.90      7885\n",
      "\n"
     ]
    }
   ],
   "source": [
    "for num in num_of_iterations:\n",
    "    model = LogisticRegression(num_iterations=num)\n",
    "    model.fit(X_train, y_train)\n",
    "    y_pred = model.predict(X_test)\n",
    "    print(('\" '+ str(num) +' iterations \"').center(53, '='))\n",
    "    print(classification_report(y_test, y_pred))"
   ]
  },
  {
   "cell_type": "markdown",
   "metadata": {},
   "source": [
    "### Threshold testing"
   ]
  },
  {
   "cell_type": "code",
   "execution_count": 21,
   "metadata": {},
   "outputs": [],
   "source": [
    "threshold = [0.3, 0.5, 0.65, 0.8]"
   ]
  },
  {
   "cell_type": "code",
   "execution_count": 22,
   "metadata": {},
   "outputs": [
    {
     "name": "stdout",
     "output_type": "stream",
     "text": [
      "=================\" Threshold = 0.3 \"=================\n",
      "              precision    recall  f1-score   support\n",
      "\n",
      "           0       0.97      0.21      0.34      3923\n",
      "           1       0.56      0.99      0.71      3962\n",
      "\n",
      "    accuracy                           0.60      7885\n",
      "   macro avg       0.76      0.60      0.53      7885\n",
      "weighted avg       0.76      0.60      0.53      7885\n",
      "\n",
      "=================\" Threshold = 0.5 \"=================\n",
      "              precision    recall  f1-score   support\n",
      "\n",
      "           0       0.69      0.99      0.81      3923\n",
      "           1       0.99      0.55      0.71      3962\n",
      "\n",
      "    accuracy                           0.77      7885\n",
      "   macro avg       0.84      0.77      0.76      7885\n",
      "weighted avg       0.84      0.77      0.76      7885\n",
      "\n",
      "=================\" Threshold = 0.65 \"================\n",
      "              precision    recall  f1-score   support\n",
      "\n",
      "           0       0.94      0.84      0.89      3923\n",
      "           1       0.86      0.95      0.90      3962\n",
      "\n",
      "    accuracy                           0.90      7885\n",
      "   macro avg       0.90      0.90      0.90      7885\n",
      "weighted avg       0.90      0.90      0.90      7885\n",
      "\n",
      "=================\" Threshold = 0.8 \"=================\n",
      "              precision    recall  f1-score   support\n",
      "\n",
      "           0       0.92      0.90      0.91      3923\n",
      "           1       0.90      0.92      0.91      3962\n",
      "\n",
      "    accuracy                           0.91      7885\n",
      "   macro avg       0.91      0.91      0.91      7885\n",
      "weighted avg       0.91      0.91      0.91      7885\n",
      "\n"
     ]
    }
   ],
   "source": [
    "for thresh in threshold:\n",
    "    model = LogisticRegression(threshold=thresh)\n",
    "    model.fit(X_train, y_train)\n",
    "    y_pred = model.predict(X_test)\n",
    "    print(('\" Threshold = '+ str(thresh) +' \"').center(53, '='))\n",
    "    print(classification_report(y_test, y_pred))"
   ]
  },
  {
   "cell_type": "code",
   "execution_count": null,
   "metadata": {},
   "outputs": [],
   "source": []
  }
 ],
 "metadata": {
  "kernelspec": {
   "display_name": "Python 3",
   "language": "python",
   "name": "python3"
  },
  "language_info": {
   "codemirror_mode": {
    "name": "ipython",
    "version": 3
   },
   "file_extension": ".py",
   "mimetype": "text/x-python",
   "name": "python",
   "nbconvert_exporter": "python",
   "pygments_lexer": "ipython3",
   "version": "3.7.6"
  }
 },
 "nbformat": 4,
 "nbformat_minor": 4
}
