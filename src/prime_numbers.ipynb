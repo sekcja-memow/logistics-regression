{
 "cells": [
  {
   "cell_type": "markdown",
   "metadata": {},
   "source": [
    "### Prime numbers recognition\n",
    "\n",
    "We shall train a binary classifier on a subset of the MNIST set, in which we distinguish classes (digits 0 and 1 are to be excluded from the set):\n",
    "\n",
    "* Prime numbers (2,3,5,7)\n",
    "* Complex numbers (4,6,8,9)\n",
    "\n",
    "### Model testing\n",
    "\n",
    "We test our model with different parameters. Parameters such as number of iterations, threshold or number of samples differ and we can observe how it affects the model and its outcomes."
   ]
  },
  {
   "cell_type": "markdown",
   "metadata": {},
   "source": [
    "### Downloading packages and preparing notebook for training models"
   ]
  },
  {
   "cell_type": "code",
   "execution_count": 1,
   "metadata": {},
   "outputs": [
    {
     "name": "stdout",
     "output_type": "stream",
     "text": [
      "Requirement already satisfied: numpy>=1.19.4 in d:\\p\\anaconda\\lib\\site-packages (from -r ../requirements.txt (line 1)) (1.19.4)\n",
      "Requirement already satisfied: idx2numpy>=1.2.3 in d:\\p\\anaconda\\lib\\site-packages (from -r ../requirements.txt (line 2)) (1.2.3)\n",
      "Requirement already satisfied: requests>=2.25.0 in c:\\users\\karol\\appdata\\roaming\\python\\python37\\site-packages (from -r ../requirements.txt (line 3)) (2.25.0)\n",
      "Requirement already satisfied: sklearn>=0.0 in c:\\users\\karol\\appdata\\roaming\\python\\python37\\site-packages (from -r ../requirements.txt (line 4)) (0.0)\n",
      "Requirement already satisfied: matplotlib>=3.3.2 in d:\\p\\anaconda\\lib\\site-packages (from -r ../requirements.txt (line 5)) (3.3.3)\n",
      "Requirement already satisfied: six in d:\\p\\anaconda\\lib\\site-packages (from idx2numpy>=1.2.3->-r ../requirements.txt (line 2)) (1.15.0)\n",
      "Requirement already satisfied: urllib3<1.27,>=1.21.1 in d:\\p\\anaconda\\lib\\site-packages (from requests>=2.25.0->-r ../requirements.txt (line 3)) (1.25.9)\n",
      "Requirement already satisfied: chardet<4,>=3.0.2 in d:\\p\\anaconda\\lib\\site-packages (from requests>=2.25.0->-r ../requirements.txt (line 3)) (3.0.4)\n",
      "Requirement already satisfied: idna<3,>=2.5 in d:\\p\\anaconda\\lib\\site-packages (from requests>=2.25.0->-r ../requirements.txt (line 3)) (2.10)\n",
      "Requirement already satisfied: certifi>=2017.4.17 in d:\\p\\anaconda\\lib\\site-packages (from requests>=2.25.0->-r ../requirements.txt (line 3)) (2020.6.20)\n",
      "Requirement already satisfied: scikit-learn in d:\\p\\anaconda\\lib\\site-packages (from sklearn>=0.0->-r ../requirements.txt (line 4)) (0.22.1)\n",
      "Requirement already satisfied: pillow>=6.2.0 in d:\\p\\anaconda\\lib\\site-packages (from matplotlib>=3.3.2->-r ../requirements.txt (line 5)) (7.0.0)\n",
      "Requirement already satisfied: kiwisolver>=1.0.1 in d:\\p\\anaconda\\lib\\site-packages (from matplotlib>=3.3.2->-r ../requirements.txt (line 5)) (1.1.0)\n",
      "Requirement already satisfied: python-dateutil>=2.1 in d:\\p\\anaconda\\lib\\site-packages (from matplotlib>=3.3.2->-r ../requirements.txt (line 5)) (2.8.1)\n",
      "Requirement already satisfied: cycler>=0.10 in d:\\p\\anaconda\\lib\\site-packages (from matplotlib>=3.3.2->-r ../requirements.txt (line 5)) (0.10.0)\n",
      "Requirement already satisfied: pyparsing!=2.0.4,!=2.1.2,!=2.1.6,>=2.0.3 in d:\\p\\anaconda\\lib\\site-packages (from matplotlib>=3.3.2->-r ../requirements.txt (line 5)) (2.4.6)\n",
      "Requirement already satisfied: scipy>=0.17.0 in d:\\p\\anaconda\\lib\\site-packages (from scikit-learn->sklearn>=0.0->-r ../requirements.txt (line 4)) (1.4.1)\n",
      "Requirement already satisfied: joblib>=0.11 in d:\\p\\anaconda\\lib\\site-packages (from scikit-learn->sklearn>=0.0->-r ../requirements.txt (line 4)) (0.14.1)\n",
      "Requirement already satisfied: setuptools in d:\\p\\anaconda\\lib\\site-packages (from kiwisolver>=1.0.1->matplotlib>=3.3.2->-r ../requirements.txt (line 5)) (45.2.0.post20200210)\n"
     ]
    },
    {
     "name": "stderr",
     "output_type": "stream",
     "text": [
      "WARNING: You are using pip version 20.2.3; however, version 20.3.3 is available.\n",
      "You should consider upgrading via the 'd:\\p\\anaconda\\python.exe -m pip install --upgrade pip' command.\n"
     ]
    }
   ],
   "source": [
    "# required packages installation\n",
    "\n",
    "!pip install -r ../requirements.txt"
   ]
  },
  {
   "cell_type": "code",
   "execution_count": 2,
   "metadata": {},
   "outputs": [],
   "source": [
    "# importing model and required components\n",
    "from core.models import LogisticRegression\n",
    "from core.optimizers import *\n",
    "from core.regularizers import *\n",
    "\n",
    "# imports for data loading\n",
    "from requests import get\n",
    "import idx2numpy\n",
    "import gzip\n",
    "import shutil\n",
    "import os\n",
    "\n",
    "# import for data processing and analysis\n",
    "import numpy as np\n",
    "from sklearn.metrics import classification_report\n",
    "import matplotlib.pyplot as plt\n",
    "from sklearn.model_selection import cross_val_score\n",
    "\n",
    "# warnings ignoring\n",
    "import warnings; warnings.simplefilter('ignore')"
   ]
  },
  {
   "cell_type": "markdown",
   "metadata": {},
   "source": [
    "### Data loading\n",
    "\n",
    "#### This section is responsible for downloading the data on which our model will be trained in many scenarios - with variety of different:\n",
    "- number of samples\n",
    "- number of iterations\n",
    "- thresholds"
   ]
  },
  {
   "cell_type": "code",
   "execution_count": 3,
   "metadata": {},
   "outputs": [],
   "source": [
    "# data downloading and preprocessing function\n",
    "        \n",
    "def load_data():\n",
    "    \n",
    "    urls = []\n",
    "    urls.append('http://yann.lecun.com/exdb/mnist/train-images-idx3-ubyte.gz')\n",
    "    urls.append('http://yann.lecun.com/exdb/mnist/train-labels-idx1-ubyte.gz')\n",
    "    urls.append('http://yann.lecun.com/exdb/mnist/t10k-images-idx3-ubyte.gz')\n",
    "    urls.append('http://yann.lecun.com/exdb/mnist/t10k-labels-idx1-ubyte.gz')\n",
    "    \n",
    "    print('Downloading data...')\n",
    "    responses = [get(url, allow_redirects=True) for url in urls]\n",
    "    \n",
    "    names = ['train_images', 'train_labels', 'test_images', 'test_labels']\n",
    "    \n",
    "    for index, response in enumerate(responses):\n",
    "        open(f'./datasets/prime_numbers/{names[index]}-gz', 'wb').write(response.content)\n",
    "        \n",
    "    print('Unpacking files...')\n",
    "    for name in names:\n",
    "        with gzip.open(f'./datasets/prime_numbers/{name}-gz', 'rb') as f_in:\n",
    "            with open(f'./datasets/prime_numbers/{name}', 'wb') as f_out:\n",
    "                shutil.copyfileobj(f_in, f_out)\n",
    " \n",
    "    for name in names:\n",
    "        os.remove(f'./datasets/prime_numbers/{name}-gz')\n",
    "\n",
    "    f_read = open('./datasets/prime_numbers/train_images','rb')\n",
    "    X_train = idx2numpy.convert_from_file(f_read)\n",
    "\n",
    "    f_read = open('./datasets/prime_numbers/train_labels', 'rb')\n",
    "    y_train = idx2numpy.convert_from_file(f_read)\n",
    "\n",
    "    f_read = open('./datasets/prime_numbers/test_images', 'rb')\n",
    "    X_test = idx2numpy.convert_from_file(f_read)\n",
    "    \n",
    "    f_read = open('./datasets/prime_numbers/test_labels', 'rb')\n",
    "    y_test = idx2numpy.convert_from_file(f_read)\n",
    "\n",
    "\n",
    "    X_train = X_train.reshape(len(X_train), 784)\n",
    "    X_test = X_test.reshape(len(X_test), 784)\n",
    "\n",
    "\n",
    "    tmp_X = []\n",
    "    tmp_y = []\n",
    "\n",
    "    for index,label in enumerate(y_train):\n",
    "        if label in [2,3,5,7]:\n",
    "            tmp_X.append(X_train[index])\n",
    "            tmp_y.append(1)\n",
    "        elif label in [4,6,8,9]:\n",
    "            tmp_X.append(X_train[index])\n",
    "            tmp_y.append(0)\n",
    "\n",
    "    tmp_X_test = []\n",
    "    tmp_y_test = []\n",
    "\n",
    "    for index,label in enumerate(y_test):\n",
    "        if label in [2,3,5,7]:\n",
    "            tmp_X_test.append(X_test[index])\n",
    "            tmp_y_test.append(1)\n",
    "        elif label in [4,6,8,9]:\n",
    "            tmp_X_test.append(X_test[index])\n",
    "            tmp_y_test.append(0)\n",
    "\n",
    "\n",
    "    X_train = np.array(tmp_X)\n",
    "    X_test = np.array(tmp_X_test)\n",
    "    y_train = np.array(tmp_y)\n",
    "    y_test = np.array(tmp_y_test)\n",
    "    \n",
    "    print('Data loading finished!')\n",
    "    \n",
    "    return X_train, X_test, y_train, y_test"
   ]
  },
  {
   "cell_type": "code",
   "execution_count": 4,
   "metadata": {},
   "outputs": [
    {
     "name": "stdout",
     "output_type": "stream",
     "text": [
      "Downloading data...\n",
      "Unpacking files...\n",
      "Data loading finished!\n"
     ]
    }
   ],
   "source": [
    "# data loading\n",
    "\n",
    "X_train_raw, X_test, y_train_raw, y_test = load_data()"
   ]
  },
  {
   "cell_type": "markdown",
   "metadata": {},
   "source": [
    "## Data visualization"
   ]
  },
  {
   "cell_type": "markdown",
   "metadata": {},
   "source": [
    "#### Number of training and testing samples + Single Record Visualization"
   ]
  },
  {
   "cell_type": "code",
   "execution_count": 5,
   "metadata": {},
   "outputs": [
    {
     "name": "stdout",
     "output_type": "stream",
     "text": [
      "Num of our training samples: \t 47335\n",
      "Num of our testing samples: \t 7885\n"
     ]
    },
    {
     "data": {
      "image/png": "[encoded data removed]",
      "text/plain": [
       "<Figure size 432x432 with 1 Axes>"
      ]
     },
     "metadata": {
      "needs_background": "light"
     },
     "output_type": "display_data"
    }
   ],
   "source": [
    "print(\"Num of our training samples: \\t\", X_train_raw.shape[0])\n",
    "print(\"Num of our testing samples: \\t\", X_test.shape[0])\n",
    "\n",
    "number = np.reshape(X_train_raw[0], (28,28))\n",
    "\n",
    "plt.figure(figsize=(6, 6))\n",
    "plt.imshow(number, cmap='gray')\n",
    "plt.axis('off')\n",
    "plt.show()"
   ]
  },
  {
   "cell_type": "markdown",
   "metadata": {},
   "source": [
    "#### Training sample\n",
    "\n",
    "##### Examples with labels attached"
   ]
  },
  {
   "cell_type": "code",
   "execution_count": 6,
   "metadata": {},
   "outputs": [
    {
     "data": {
      "image/png": "[encoded data removed]",
      "text/plain": [
       "<Figure size 1152x576 with 8 Axes>"
      ]
     },
     "metadata": {
      "needs_background": "light"
     },
     "output_type": "display_data"
    }
   ],
   "source": [
    "plt.figure(figsize=(16,8))\n",
    "\n",
    "for i, (X, label) in enumerate(zip(X_train_raw[0:8], y_train_raw[0:8])):\n",
    "    plt.subplot(2, 4, i + 1)\n",
    "    plt.title(f'Label: {label}', fontsize = 20)\n",
    "    plt.axis('off')\n",
    "    plt.imshow(np.reshape(X, (28,28)), cmap='gray')\n",
    "plt.show()"
   ]
  },
  {
   "cell_type": "markdown",
   "metadata": {},
   "source": [
    "#### Taking num of samples we want to train our model on "
   ]
  },
  {
   "cell_type": "code",
   "execution_count": 7,
   "metadata": {},
   "outputs": [],
   "source": [
    "num_of_samples = 10000\n",
    "\n",
    "X_train = X_train_raw[:num_of_samples]\n",
    "y_train = y_train_raw[:num_of_samples]"
   ]
  },
  {
   "cell_type": "markdown",
   "metadata": {},
   "source": [
    "### Helper function for comparison displaying"
   ]
  },
  {
   "cell_type": "code",
   "execution_count": 8,
   "metadata": {},
   "outputs": [],
   "source": [
    "def display_comparison(report , labels, metric = 'precision'):\n",
    "\n",
    "    precision_0 = [round(report['0'][metric],2) for report in report]\n",
    "    precision_1 = [round(report['1'][metric],2) for report in report]\n",
    "\n",
    "    x = np.arange(len(report))  # the label locations\n",
    "    width = 0.35  # the width of the bars\n",
    "\n",
    "    fig, ax = plt.subplots(figsize=(12, 5))\n",
    "\n",
    "    rects1 = ax.bar(x - width/2 , precision_0, width, label=f'{metric} 0')\n",
    "    rects2 = ax.bar(x + width/2, precision_1, width, label=f'{metric} 1')\n",
    "\n",
    "    ax.set_ylabel(metric)\n",
    "    ax.set_title('Comparison of the prescription results for different optimizers')\n",
    "    ax.set_xticks(x)\n",
    "    ax.set_xticklabels(labels)\n",
    "    ax.legend()\n",
    "\n",
    "\n",
    "    def autolabel(rects):\n",
    "        for rect in rects:\n",
    "            height = rect.get_height()\n",
    "            ax.annotate('{}'.format(height),\n",
    "                        xy=(rect.get_x() + rect.get_width() / 2, height),\n",
    "                        xytext=(0, 3),  # 3 points vertical offset\n",
    "                        textcoords=\"offset points\",\n",
    "                        ha='center', va='bottom')\n",
    "\n",
    "\n",
    "    autolabel(rects1)\n",
    "    autolabel(rects2)\n",
    "\n",
    "    fig.tight_layout()\n",
    "\n",
    "    plt.show()"
   ]
  },
  {
   "cell_type": "markdown",
   "metadata": {},
   "source": [
    "## Default model efficienty\n",
    "\n",
    "#### Cross validation score determination on model with default parameters"
   ]
  },
  {
   "cell_type": "code",
   "execution_count": 9,
   "metadata": {},
   "outputs": [],
   "source": [
    "model = LogisticRegression()\n",
    "result = cross_val_score(model, X_train, y_train, cv=5, scoring='accuracy', error_score='raise')"
   ]
  },
  {
   "cell_type": "code",
   "execution_count": 10,
   "metadata": {},
   "outputs": [
    {
     "name": "stdout",
     "output_type": "stream",
     "text": [
      "Cross validation result\n",
      "[0.9125 0.881  0.912  0.8985 0.82  ]\n",
      "Cross validation mean\n",
      "0.8847999999999999\n"
     ]
    }
   ],
   "source": [
    "print('Cross validation result')\n",
    "print(result)\n",
    "print('Cross validation mean')\n",
    "print(np.mean(result))"
   ]
  },
  {
   "cell_type": "markdown",
   "metadata": {},
   "source": [
    "## Optimizers testing"
   ]
  },
  {
   "cell_type": "code",
   "execution_count": 11,
   "metadata": {},
   "outputs": [],
   "source": [
    "# appending all optimizers to check their efficiency\n",
    "\n",
    "optimizers = [\n",
    "    GradientDescentOptimizer(),\n",
    "    MomentumGradientDescentOptimizer(),\n",
    "    AdaGradOptimizer(),\n",
    "    RMSPropOptimizer()\n",
    "]"
   ]
  },
  {
   "cell_type": "code",
   "execution_count": 12,
   "metadata": {},
   "outputs": [
    {
     "name": "stdout",
     "output_type": "stream",
     "text": [
      "================================================================================\n",
      "                 GradientDescentOptimizer(learning_rate: 0.03)                  \n",
      "================================================================================\n",
      "              precision    recall  f1-score   support\n",
      "\n",
      "           0       0.91      0.91      0.91      3923\n",
      "           1       0.91      0.91      0.91      3962\n",
      "\n",
      "    accuracy                           0.91      7885\n",
      "   macro avg       0.91      0.91      0.91      7885\n",
      "weighted avg       0.91      0.91      0.91      7885\n",
      "\n",
      "================================================================================\n",
      "   MomentumGradientDescentOptimizer(learning_rate: 0.03, momentum_rate: 0.9)    \n",
      "================================================================================\n",
      "              precision    recall  f1-score   support\n",
      "\n",
      "           0       0.93      0.85      0.89      3923\n",
      "           1       0.86      0.94      0.90      3962\n",
      "\n",
      "    accuracy                           0.90      7885\n",
      "   macro avg       0.90      0.90      0.90      7885\n",
      "weighted avg       0.90      0.90      0.90      7885\n",
      "\n",
      "================================================================================\n",
      "             AdaGradOptimizer(learning_rate: 0.03, epsilon: 1e-07)              \n",
      "================================================================================\n",
      "              precision    recall  f1-score   support\n",
      "\n",
      "           0       0.91      0.92      0.91      3923\n",
      "           1       0.92      0.91      0.91      3962\n",
      "\n",
      "    accuracy                           0.91      7885\n",
      "   macro avg       0.91      0.91      0.91      7885\n",
      "weighted avg       0.91      0.91      0.91      7885\n",
      "\n",
      "================================================================================\n",
      "        RMSPropOptimizer(learning_rate: 0.03, beta: 0.9, epsilon: 1e-07)        \n",
      "================================================================================\n",
      "              precision    recall  f1-score   support\n",
      "\n",
      "           0       0.92      0.92      0.92      3923\n",
      "           1       0.92      0.92      0.92      3962\n",
      "\n",
      "    accuracy                           0.92      7885\n",
      "   macro avg       0.92      0.92      0.92      7885\n",
      "weighted avg       0.92      0.92      0.92      7885\n",
      "\n"
     ]
    }
   ],
   "source": [
    "# regularizer=RidgeRegularizer(), num_iterations=300, threshold=0.5, fit_intercept=True, verbose=False\n",
    "\n",
    "optimizers_report = []\n",
    "\n",
    "for optimizer in optimizers:\n",
    "    model = LogisticRegression(optimizer = optimizer)\n",
    "    model.fit(X_train_raw, y_train_raw)\n",
    "    y_pred = model.predict(X_test)\n",
    "    print(\"=\"*80)\n",
    "    print(str(optimizer).center(80, ' '))\n",
    "    print(\"=\"*80)\n",
    "    print(classification_report(y_test, y_pred))\n",
    "    optimizers_report.append(classification_report(y_test, y_pred, output_dict = True))"
   ]
  },
  {
   "cell_type": "code",
   "execution_count": null,
   "metadata": {},
   "outputs": [],
   "source": []
  },
  {
   "cell_type": "code",
   "execution_count": 13,
   "metadata": {},
   "outputs": [
    {
     "data": {
      "image/png": "[encoded data removed]",
      "text/plain": [
       "<Figure size 864x360 with 1 Axes>"
      ]
     },
     "metadata": {
      "needs_background": "light"
     },
     "output_type": "display_data"
    }
   ],
   "source": [
    "labels = ['Gradient Descent', 'Momentum', 'Ada Grad', 'RMS Prop']\n",
    "display_comparison(optimizers_report, labels, 'f1-score')"
   ]
  },
  {
   "cell_type": "markdown",
   "metadata": {},
   "source": [
    "## Regularizers testing"
   ]
  },
  {
   "cell_type": "code",
   "execution_count": 14,
   "metadata": {},
   "outputs": [],
   "source": [
    "# appending all regularizers to check their efficiency\n",
    "\n",
    "regularizers = [\n",
    "    LassoRegularizer(),\n",
    "    RidgeRegularizer(),\n",
    "    ElasticNetRegularizer()\n",
    "]"
   ]
  },
  {
   "cell_type": "markdown",
   "metadata": {},
   "source": [
    "#### Below we test all three regularizers\n",
    "\n",
    "Default values provided to *LinearRegression* model:\n",
    "- *num_iterations* = 300 <- number of iterations of the optimizer algorithm\n",
    "- *threshold* = 0.5 <- decision threshold\n",
    "- *fit_intercept* = True <- whether to calculate the intercept for this model\n",
    "- *verbose* = False <- output-related parameter"
   ]
  },
  {
   "cell_type": "code",
   "execution_count": 15,
   "metadata": {},
   "outputs": [
    {
     "name": "stdout",
     "output_type": "stream",
     "text": [
      "================================================================================\n",
      "                          LassoRegularizer(alpha: 0.1)                          \n",
      "================================================================================\n",
      "              precision    recall  f1-score   support\n",
      "\n",
      "           0       0.93      0.89      0.91      3923\n",
      "           1       0.90      0.94      0.92      3962\n",
      "\n",
      "    accuracy                           0.92      7885\n",
      "   macro avg       0.92      0.91      0.91      7885\n",
      "weighted avg       0.92      0.92      0.91      7885\n",
      "\n",
      "================================================================================\n",
      "                          RidgeRegularizer(alpha: 0.1)                          \n",
      "================================================================================\n",
      "              precision    recall  f1-score   support\n",
      "\n",
      "           0       0.82      0.98      0.89      3923\n",
      "           1       0.97      0.78      0.87      3962\n",
      "\n",
      "    accuracy                           0.88      7885\n",
      "   macro avg       0.89      0.88      0.88      7885\n",
      "weighted avg       0.89      0.88      0.88      7885\n",
      "\n",
      "================================================================================\n",
      "            ElasticNetRegularizer(alpha: 0.1, beta: 0.1, gamma: 0.8)            \n",
      "================================================================================\n",
      "              precision    recall  f1-score   support\n",
      "\n",
      "           0       0.90      0.94      0.92      3923\n",
      "           1       0.94      0.89      0.92      3962\n",
      "\n",
      "    accuracy                           0.92      7885\n",
      "   macro avg       0.92      0.92      0.92      7885\n",
      "weighted avg       0.92      0.92      0.92      7885\n",
      "\n"
     ]
    }
   ],
   "source": [
    "# optimizer = RMSPropOptimizer, num_iterations=300, threshold=0.5, fit_intercept=True, verbose=False\n",
    "\n",
    "regularizers_report = []\n",
    "\n",
    "for regularizer in regularizers:\n",
    "    model = LogisticRegression(regularizer = regularizer)\n",
    "    model.fit(X_train_raw, y_train_raw)\n",
    "    y_pred = model.predict(X_test)\n",
    "    print(\"=\"*80)\n",
    "    print(str(regularizer).center(80, ' '))\n",
    "    print(\"=\"*80)\n",
    "    print(classification_report(y_test, y_pred))\n",
    "    regularizers_report.append(classification_report(y_test, y_pred, output_dict = True))"
   ]
  },
  {
   "cell_type": "code",
   "execution_count": 16,
   "metadata": {},
   "outputs": [
    {
     "data": {
      "image/png": "[encoded data removed]",
      "text/plain": [
       "<Figure size 864x360 with 1 Axes>"
      ]
     },
     "metadata": {
      "needs_background": "light"
     },
     "output_type": "display_data"
    }
   ],
   "source": [
    "labels = ['LassoRegularizer', 'RidgeRegularizer', 'ElasticNetRegularizer']\n",
    "display_comparison(regularizers_report, labels, metric='f1-score')"
   ]
  },
  {
   "cell_type": "markdown",
   "metadata": {},
   "source": [
    "### Different amounts of samples during model training\n",
    "\n",
    "#### In this section we check how different amount of samples affects the model and scores, precision etc."
   ]
  },
  {
   "cell_type": "code",
   "execution_count": 17,
   "metadata": {},
   "outputs": [
    {
     "name": "stdout",
     "output_type": "stream",
     "text": [
      "Number of all samples:  47335\n"
     ]
    }
   ],
   "source": [
    "print('Number of all samples: ', len(X_train_raw))"
   ]
  },
  {
   "cell_type": "code",
   "execution_count": 18,
   "metadata": {},
   "outputs": [],
   "source": [
    "num_of_samples = [5, 100, 500, 1000, 2000, 5000, 10000, 20000]"
   ]
  },
  {
   "cell_type": "markdown",
   "metadata": {},
   "source": [
    "##### Creating models with different sample number"
   ]
  },
  {
   "cell_type": "code",
   "execution_count": 19,
   "metadata": {},
   "outputs": [
    {
     "name": "stdout",
     "output_type": "stream",
     "text": [
      "====================\" 5 samples \"====================\n",
      "              precision    recall  f1-score   support\n",
      "\n",
      "           0       0.70      0.58      0.63      3923\n",
      "           1       0.64      0.75      0.69      3962\n",
      "\n",
      "    accuracy                           0.67      7885\n",
      "   macro avg       0.67      0.67      0.66      7885\n",
      "weighted avg       0.67      0.67      0.66      7885\n",
      "\n",
      "===================\" 100 samples \"===================\n",
      "              precision    recall  f1-score   support\n",
      "\n",
      "           0       0.76      0.90      0.82      3923\n",
      "           1       0.87      0.72      0.79      3962\n",
      "\n",
      "    accuracy                           0.81      7885\n",
      "   macro avg       0.82      0.81      0.81      7885\n",
      "weighted avg       0.82      0.81      0.81      7885\n",
      "\n",
      "===================\" 500 samples \"===================\n",
      "              precision    recall  f1-score   support\n",
      "\n",
      "           0       0.87      0.86      0.86      3923\n",
      "           1       0.86      0.88      0.87      3962\n",
      "\n",
      "    accuracy                           0.87      7885\n",
      "   macro avg       0.87      0.87      0.87      7885\n",
      "weighted avg       0.87      0.87      0.87      7885\n",
      "\n",
      "===================\" 1000 samples \"==================\n",
      "              precision    recall  f1-score   support\n",
      "\n",
      "           0       0.86      0.90      0.88      3923\n",
      "           1       0.89      0.86      0.88      3962\n",
      "\n",
      "    accuracy                           0.88      7885\n",
      "   macro avg       0.88      0.88      0.88      7885\n",
      "weighted avg       0.88      0.88      0.88      7885\n",
      "\n",
      "===================\" 2000 samples \"==================\n",
      "              precision    recall  f1-score   support\n",
      "\n",
      "           0       0.96      0.68      0.80      3923\n",
      "           1       0.75      0.97      0.85      3962\n",
      "\n",
      "    accuracy                           0.83      7885\n",
      "   macro avg       0.86      0.83      0.82      7885\n",
      "weighted avg       0.86      0.83      0.82      7885\n",
      "\n",
      "===================\" 5000 samples \"==================\n",
      "              precision    recall  f1-score   support\n",
      "\n",
      "           0       0.91      0.90      0.91      3923\n",
      "           1       0.90      0.92      0.91      3962\n",
      "\n",
      "    accuracy                           0.91      7885\n",
      "   macro avg       0.91      0.91      0.91      7885\n",
      "weighted avg       0.91      0.91      0.91      7885\n",
      "\n",
      "==================\" 10000 samples \"==================\n",
      "              precision    recall  f1-score   support\n",
      "\n",
      "           0       0.92      0.90      0.91      3923\n",
      "           1       0.90      0.92      0.91      3962\n",
      "\n",
      "    accuracy                           0.91      7885\n",
      "   macro avg       0.91      0.91      0.91      7885\n",
      "weighted avg       0.91      0.91      0.91      7885\n",
      "\n",
      "==================\" 20000 samples \"==================\n",
      "              precision    recall  f1-score   support\n",
      "\n",
      "           0       0.97      0.56      0.71      3923\n",
      "           1       0.69      0.98      0.81      3962\n",
      "\n",
      "    accuracy                           0.77      7885\n",
      "   macro avg       0.83      0.77      0.76      7885\n",
      "weighted avg       0.83      0.77      0.76      7885\n",
      "\n"
     ]
    }
   ],
   "source": [
    "num_samples_report = []\n",
    "\n",
    "for num in num_of_samples:\n",
    "    model = LogisticRegression()\n",
    "    model.fit(X_train_raw[:num], y_train_raw[:num])\n",
    "    y_pred = model.predict(X_test)\n",
    "    print(('\" '+ str(num) +' samples \"').center(53, '='))\n",
    "    print(classification_report(y_test, y_pred))\n",
    "    num_samples_report.append(classification_report(y_test, y_pred, output_dict = True))"
   ]
  },
  {
   "cell_type": "code",
   "execution_count": 20,
   "metadata": {},
   "outputs": [
    {
     "data": {
      "image/png": "[encoded data removed]",
      "text/plain": [
       "<Figure size 864x360 with 1 Axes>"
      ]
     },
     "metadata": {
      "needs_background": "light"
     },
     "output_type": "display_data"
    }
   ],
   "source": [
    "display_comparison(num_samples_report, num_of_samples, metric = 'f1-score')"
   ]
  },
  {
   "cell_type": "code",
   "execution_count": 30,
   "metadata": {},
   "outputs": [
    {
     "data": {
      "image/png": "[encoded data removed]",
      "text/plain": [
       "<Figure size 864x360 with 1 Axes>"
      ]
     },
     "metadata": {
      "needs_background": "light"
     },
     "output_type": "display_data"
    }
   ],
   "source": [
    "display_comparison(num_samples_report, num_of_samples, metric = 'precision')"
   ]
  },
  {
   "cell_type": "markdown",
   "metadata": {},
   "source": [
    "### Different amounts of iterations during model training\n",
    "\n",
    "#### In this section we check how different amounts of iterations affect the model and other parameters."
   ]
  },
  {
   "cell_type": "code",
   "execution_count": 37,
   "metadata": {},
   "outputs": [],
   "source": [
    "num_of_iterations = [100, 300, 500, 1000, 3000, 7000]"
   ]
  },
  {
   "cell_type": "markdown",
   "metadata": {},
   "source": [
    "##### Creating models with different iteration number"
   ]
  },
  {
   "cell_type": "code",
   "execution_count": 38,
   "metadata": {},
   "outputs": [
    {
     "name": "stdout",
     "output_type": "stream",
     "text": [
      "==================\" 100 iterations \"=================\n",
      "              precision    recall  f1-score   support\n",
      "\n",
      "           0       0.95      0.79      0.86      3923\n",
      "           1       0.82      0.96      0.89      3962\n",
      "\n",
      "    accuracy                           0.87      7885\n",
      "   macro avg       0.89      0.87      0.87      7885\n",
      "weighted avg       0.89      0.87      0.87      7885\n",
      "\n",
      "==================\" 300 iterations \"=================\n",
      "              precision    recall  f1-score   support\n",
      "\n",
      "           0       0.95      0.82      0.88      3923\n",
      "           1       0.84      0.96      0.89      3962\n",
      "\n",
      "    accuracy                           0.89      7885\n",
      "   macro avg       0.89      0.89      0.89      7885\n",
      "weighted avg       0.89      0.89      0.89      7885\n",
      "\n",
      "==================\" 500 iterations \"=================\n",
      "              precision    recall  f1-score   support\n",
      "\n",
      "           0       0.92      0.90      0.91      3923\n",
      "           1       0.90      0.92      0.91      3962\n",
      "\n",
      "    accuracy                           0.91      7885\n",
      "   macro avg       0.91      0.91      0.91      7885\n",
      "weighted avg       0.91      0.91      0.91      7885\n",
      "\n",
      "=================\" 1000 iterations \"=================\n",
      "              precision    recall  f1-score   support\n",
      "\n",
      "           0       0.92      0.90      0.91      3923\n",
      "           1       0.90      0.92      0.91      3962\n",
      "\n",
      "    accuracy                           0.91      7885\n",
      "   macro avg       0.91      0.91      0.91      7885\n",
      "weighted avg       0.91      0.91      0.91      7885\n",
      "\n",
      "=================\" 3000 iterations \"=================\n",
      "              precision    recall  f1-score   support\n",
      "\n",
      "           0       0.92      0.89      0.90      3923\n",
      "           1       0.89      0.92      0.91      3962\n",
      "\n",
      "    accuracy                           0.90      7885\n",
      "   macro avg       0.91      0.90      0.90      7885\n",
      "weighted avg       0.90      0.90      0.90      7885\n",
      "\n",
      "=================\" 7000 iterations \"=================\n",
      "              precision    recall  f1-score   support\n",
      "\n",
      "           0       0.91      0.89      0.90      3923\n",
      "           1       0.89      0.92      0.90      3962\n",
      "\n",
      "    accuracy                           0.90      7885\n",
      "   macro avg       0.90      0.90      0.90      7885\n",
      "weighted avg       0.90      0.90      0.90      7885\n",
      "\n"
     ]
    }
   ],
   "source": [
    "num_iterations_report = []\n",
    "\n",
    "for num in num_of_iterations:\n",
    "    model = LogisticRegression(num_iterations=num)\n",
    "    model.fit(X_train, y_train)\n",
    "    y_pred = model.predict(X_test)\n",
    "    print(('\" '+ str(num) +' iterations \"').center(53, '='))\n",
    "    print(classification_report(y_test, y_pred))\n",
    "    num_iterations_report.append(classification_report(y_test, y_pred, output_dict = True))"
   ]
  },
  {
   "cell_type": "code",
   "execution_count": 36,
   "metadata": {},
   "outputs": [
    {
     "data": {
      "image/png": "[encoded data removed]",
      "text/plain": [
       "<Figure size 864x360 with 1 Axes>"
      ]
     },
     "metadata": {
      "needs_background": "light"
     },
     "output_type": "display_data"
    }
   ],
   "source": [
    "display_comparison(num_iterations_report, num_of_iterations, metric='f1-score')"
   ]
  },
  {
   "cell_type": "code",
   "execution_count": 34,
   "metadata": {},
   "outputs": [
    {
     "data": {
      "image/png": "[encoded data removed]",
      "text/plain": [
       "<Figure size 864x360 with 1 Axes>"
      ]
     },
     "metadata": {
      "needs_background": "light"
     },
     "output_type": "display_data"
    }
   ],
   "source": [
    "display_comparison(num_iterations_report, num_of_iterations, metric='precision')"
   ]
  },
  {
   "cell_type": "markdown",
   "metadata": {},
   "source": [
    "## Summary\n",
    "\n",
    "Our goal was to find whether a number is prime or not. We have training samples of length 784 so our model is going to have 784 parameters. That's a lot of calculations. We wanted to test our model with different parameters and check their efficiency. In our comparison we will be considering f1-score.\n",
    "In first two parts where we were testing implemented optimizers and regularizers we can observe only slight differences, and our results oscillate around the value 0.9, so we can consider them comparable and satisfying.\n",
    "In the next parts we were testing number of samples on which we were trying our model and number of iterations.\n",
    "In a number of samples testing we can observe that the best results are obatined by training on 500-5000 samples. When we take less samples the model has no oportunity to get to know how to discriminate the numbers and when number of samples is greater than 5000 the model don't get better results, so there is no need to take more than 5000 samples for training.\n",
    "Analyzing number of iterations given for training we can see that our model's f1-score gets better with greater number of iterations - that isn't surprising. However we have to remember about overfitting, and we can see that our results don't get better above 1000 number of iterations so there is no need to take more for training."
   ]
  }
 ],
 "metadata": {
  "kernelspec": {
   "display_name": "Python 3",
   "language": "python",
   "name": "python3"
  },
  "language_info": {
   "codemirror_mode": {
    "name": "ipython",
    "version": 3
   },
   "file_extension": ".py",
   "mimetype": "text/x-python",
   "name": "python",
   "nbconvert_exporter": "python",
   "pygments_lexer": "ipython3",
   "version": "3.7.6"
  }
 },
 "nbformat": 4,
 "nbformat_minor": 4
}
