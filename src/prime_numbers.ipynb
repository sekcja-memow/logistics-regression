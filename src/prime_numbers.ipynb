{
 "cells": [
  {
   "cell_type": "markdown",
   "metadata": {},
   "source": [
    "### Prime numbers recognition\n",
    "\n",
    "In this file we train a binary classifier on a subset of the MNIST set, in which we distinguish classes (digits 0 and 1 are to be excluded from the set):\n",
    "\n",
    "* Prime numbers (2,3,5,7)\n",
    "* Complex numbers (4,6,8,9)\n",
    "\n",
    "### Model testing\n",
    "\n",
    "We test our model with different parameters. Parameters such as number of iterations, threshold or number of samples differ and we can observe how it affects the whole model and its outcome."
   ]
  },
  {
   "cell_type": "markdown",
   "metadata": {},
   "source": [
    "### Downloading packages and preparing notebook for training models"
   ]
  },
  {
   "cell_type": "code",
   "execution_count": 1,
   "metadata": {},
   "outputs": [
    {
     "name": "stdout",
     "output_type": "stream",
     "text": [
      "Requirement already satisfied: numpy>=1.19.4 in /Users/kamil/opt/anaconda3/lib/python3.7/site-packages (from -r ../requirements.txt (line 1)) (1.19.4)\n",
      "Collecting idx2numpy>=1.2.3 (from -r ../requirements.txt (line 2))\n",
      "  Downloading https://files.pythonhosted.org/packages/7e/6b/80628f6cc2f44d80b27f1ef7b57b257ed4c73766113b77d13ad110c091b4/idx2numpy-1.2.3.tar.gz\n",
      "Collecting requests>=2.25.0 (from -r ../requirements.txt (line 3))\n",
      "  Using cached https://files.pythonhosted.org/packages/29/c1/24814557f1d22c56d50280771a17307e6bf87b70727d975fd6b2ce6b014a/requests-2.25.1-py2.py3-none-any.whl\n",
      "Collecting sklearn>=0.0 (from -r ../requirements.txt (line 4))\n",
      "  Downloading https://files.pythonhosted.org/packages/1e/7a/dbb3be0ce9bd5c8b7e3d87328e79063f8b263b2b1bfa4774cb1147bfcd3f/sklearn-0.0.tar.gz\n",
      "Collecting matplotlib>=3.3.2 (from -r ../requirements.txt (line 5))\n",
      "\u001b[?25l  Downloading https://files.pythonhosted.org/packages/ff/0d/18c590b08f91d14376174bcf1acf96a9d4b35045f7344d046b60444399f2/matplotlib-3.3.3-cp37-cp37m-macosx_10_9_x86_64.whl (8.5MB)\n",
      "\u001b[K     |████████████████████████████████| 8.5MB 1.8MB/s eta 0:00:01\n",
      "\u001b[?25hRequirement already satisfied: six in /Users/kamil/opt/anaconda3/lib/python3.7/site-packages (from idx2numpy>=1.2.3->-r ../requirements.txt (line 2)) (1.12.0)\n",
      "Requirement already satisfied: certifi>=2017.4.17 in /Users/kamil/opt/anaconda3/lib/python3.7/site-packages (from requests>=2.25.0->-r ../requirements.txt (line 3)) (2019.9.11)\n",
      "Requirement already satisfied: chardet<5,>=3.0.2 in /Users/kamil/opt/anaconda3/lib/python3.7/site-packages (from requests>=2.25.0->-r ../requirements.txt (line 3)) (3.0.4)\n",
      "Requirement already satisfied: idna<3,>=2.5 in /Users/kamil/opt/anaconda3/lib/python3.7/site-packages (from requests>=2.25.0->-r ../requirements.txt (line 3)) (2.8)\n",
      "Requirement already satisfied: urllib3<1.27,>=1.21.1 in /Users/kamil/opt/anaconda3/lib/python3.7/site-packages (from requests>=2.25.0->-r ../requirements.txt (line 3)) (1.24.2)\n",
      "Requirement already satisfied: scikit-learn in /Users/kamil/.local/lib/python3.7/site-packages (from sklearn>=0.0->-r ../requirements.txt (line 4)) (0.23.0)\n",
      "Requirement already satisfied: cycler>=0.10 in /Users/kamil/opt/anaconda3/lib/python3.7/site-packages (from matplotlib>=3.3.2->-r ../requirements.txt (line 5)) (0.10.0)\n",
      "Requirement already satisfied: kiwisolver>=1.0.1 in /Users/kamil/opt/anaconda3/lib/python3.7/site-packages (from matplotlib>=3.3.2->-r ../requirements.txt (line 5)) (1.1.0)\n",
      "Requirement already satisfied: pyparsing!=2.0.4,!=2.1.2,!=2.1.6,>=2.0.3 in /Users/kamil/opt/anaconda3/lib/python3.7/site-packages (from matplotlib>=3.3.2->-r ../requirements.txt (line 5)) (2.4.2)\n",
      "Requirement already satisfied: pillow>=6.2.0 in /Users/kamil/opt/anaconda3/lib/python3.7/site-packages (from matplotlib>=3.3.2->-r ../requirements.txt (line 5)) (6.2.0)\n",
      "Requirement already satisfied: python-dateutil>=2.1 in /Users/kamil/opt/anaconda3/lib/python3.7/site-packages (from matplotlib>=3.3.2->-r ../requirements.txt (line 5)) (2.8.0)\n",
      "Requirement already satisfied: threadpoolctl>=2.0.0 in /Users/kamil/opt/anaconda3/lib/python3.7/site-packages (from scikit-learn->sklearn>=0.0->-r ../requirements.txt (line 4)) (2.1.0)\n",
      "Requirement already satisfied: joblib>=0.11 in /Users/kamil/opt/anaconda3/lib/python3.7/site-packages (from scikit-learn->sklearn>=0.0->-r ../requirements.txt (line 4)) (0.13.2)\n",
      "Requirement already satisfied: scipy>=0.19.1 in /Users/kamil/opt/anaconda3/lib/python3.7/site-packages (from scikit-learn->sklearn>=0.0->-r ../requirements.txt (line 4)) (1.5.4)\n",
      "Requirement already satisfied: setuptools in /Users/kamil/opt/anaconda3/lib/python3.7/site-packages (from kiwisolver>=1.0.1->matplotlib>=3.3.2->-r ../requirements.txt (line 5)) (41.4.0)\n",
      "Building wheels for collected packages: idx2numpy, sklearn\n",
      "  Building wheel for idx2numpy (setup.py) ... \u001b[?25ldone\n",
      "\u001b[?25h  Created wheel for idx2numpy: filename=idx2numpy-1.2.3-cp37-none-any.whl size=7905 sha256=664ceee2f99a8d1d96bda7cc47a2a255799e72410380ece41474c13d9ed2acb1\n",
      "  Stored in directory: /Users/kamil/Library/Caches/pip/wheels/7a/c1/da/284ce80a748fab898b8d1fa95468a386e7cf3b81da18511f9d\n",
      "  Building wheel for sklearn (setup.py) ... \u001b[?25ldone\n",
      "\u001b[?25h  Created wheel for sklearn: filename=sklearn-0.0-py2.py3-none-any.whl size=1316 sha256=9cc552d7fc476ce0e35cb5bd2a2d6751ef9e35b96784c11b3f62b9c90e8df1bb\n",
      "  Stored in directory: /Users/kamil/Library/Caches/pip/wheels/76/03/bb/589d421d27431bcd2c6da284d5f2286c8e3b2ea3cf1594c074\n",
      "Successfully built idx2numpy sklearn\n",
      "Installing collected packages: idx2numpy, requests, sklearn, matplotlib\n",
      "  Found existing installation: idx2numpy 1.2.2\n",
      "    Uninstalling idx2numpy-1.2.2:\n",
      "      Successfully uninstalled idx2numpy-1.2.2\n",
      "  Found existing installation: requests 2.24.0\n",
      "    Uninstalling requests-2.24.0:\n",
      "      Successfully uninstalled requests-2.24.0\n",
      "  Found existing installation: matplotlib 3.1.1\n",
      "    Uninstalling matplotlib-3.1.1:\n",
      "      Successfully uninstalled matplotlib-3.1.1\n",
      "Successfully installed idx2numpy-1.2.3 matplotlib-3.3.3 requests-2.25.1 sklearn-0.0\n"
     ]
    }
   ],
   "source": [
    "# required packages installation\n",
    "\n",
    "!pip install -r ../requirements.txt"
   ]
  },
  {
   "cell_type": "code",
   "execution_count": 1,
   "metadata": {},
   "outputs": [],
   "source": [
    "# importing model and required components\n",
    "from core.models import LogisticRegression\n",
    "from core.optimizers import *\n",
    "from core.regularizers import *\n",
    "\n",
    "# imports for data loading\n",
    "from requests import get\n",
    "import idx2numpy\n",
    "import gzip\n",
    "import shutil\n",
    "import os\n",
    "\n",
    "# import for data processing and analysis\n",
    "import numpy as np\n",
    "from sklearn.metrics import classification_report\n",
    "import matplotlib.pyplot as plt\n",
    "from sklearn.model_selection import cross_val_score\n",
    "\n",
    "# warnings ignoring\n",
    "import warnings; warnings.simplefilter('ignore')"
   ]
  },
  {
   "cell_type": "markdown",
   "metadata": {},
   "source": [
    "### Data loading\n",
    "\n",
    "#### This section is responsible for downloading the data on which our model will be trained in many scenarios - with variety of different:\n",
    "- number of samples\n",
    "- number of iterations\n",
    "- thresholds"
   ]
  },
  {
   "cell_type": "code",
   "execution_count": 2,
   "metadata": {},
   "outputs": [],
   "source": [
    "# data downloading and preprocessing function\n",
    "        \n",
    "def load_data():\n",
    "    \n",
    "    urls = []\n",
    "    urls.append('http://yann.lecun.com/exdb/mnist/train-images-idx3-ubyte.gz')\n",
    "    urls.append('http://yann.lecun.com/exdb/mnist/train-labels-idx1-ubyte.gz')\n",
    "    urls.append('http://yann.lecun.com/exdb/mnist/t10k-images-idx3-ubyte.gz')\n",
    "    urls.append('http://yann.lecun.com/exdb/mnist/t10k-labels-idx1-ubyte.gz')\n",
    "    \n",
    "    print('Downloading data...')\n",
    "    responses = [get(url, allow_redirects=True) for url in urls]\n",
    "    \n",
    "    names = ['train_images', 'train_labels', 'test_images', 'test_labels']\n",
    "    \n",
    "    for index, response in enumerate(responses):\n",
    "        open(f'./datasets/prime_numbers/{names[index]}-gz', 'wb').write(response.content)\n",
    "        \n",
    "    print('Unpacking files...')\n",
    "    for name in names:\n",
    "        with gzip.open(f'./datasets/prime_numbers/{name}-gz', 'rb') as f_in:\n",
    "            with open(f'./datasets/prime_numbers/{name}', 'wb') as f_out:\n",
    "                shutil.copyfileobj(f_in, f_out)\n",
    " \n",
    "    for name in names:\n",
    "        os.remove(f'./datasets/prime_numbers/{name}-gz')\n",
    "\n",
    "    f_read = open('./datasets/prime_numbers/train_images','rb')\n",
    "    X_train = idx2numpy.convert_from_file(f_read)\n",
    "\n",
    "    f_read = open('./datasets/prime_numbers/train_labels', 'rb')\n",
    "    y_train = idx2numpy.convert_from_file(f_read)\n",
    "\n",
    "    f_read = open('./datasets/prime_numbers/test_images', 'rb')\n",
    "    X_test = idx2numpy.convert_from_file(f_read)\n",
    "    \n",
    "    f_read = open('./datasets/prime_numbers/test_labels', 'rb')\n",
    "    y_test = idx2numpy.convert_from_file(f_read)\n",
    "\n",
    "\n",
    "    X_train = X_train.reshape(len(X_train), 784)\n",
    "    X_test = X_test.reshape(len(X_test), 784)\n",
    "\n",
    "\n",
    "    tmp_X = []\n",
    "    tmp_y = []\n",
    "\n",
    "    for index,label in enumerate(y_train):\n",
    "        if label in [2,3,5,7]:\n",
    "            tmp_X.append(X_train[index])\n",
    "            tmp_y.append(1)\n",
    "        elif label in [4,6,8,9]:\n",
    "            tmp_X.append(X_train[index])\n",
    "            tmp_y.append(0)\n",
    "\n",
    "    tmp_X_test = []\n",
    "    tmp_y_test = []\n",
    "\n",
    "    for index,label in enumerate(y_test):\n",
    "        if label in [2,3,5,7]:\n",
    "            tmp_X_test.append(X_test[index])\n",
    "            tmp_y_test.append(1)\n",
    "        elif label in [4,6,8,9]:\n",
    "            tmp_X_test.append(X_test[index])\n",
    "            tmp_y_test.append(0)\n",
    "\n",
    "\n",
    "    X_train = np.array(tmp_X)\n",
    "    X_test = np.array(tmp_X_test)\n",
    "    y_train = np.array(tmp_y)\n",
    "    y_test = np.array(tmp_y_test)\n",
    "    \n",
    "    print('Data loading finished!')\n",
    "    \n",
    "    return X_train, X_test, y_train, y_test"
   ]
  },
  {
   "cell_type": "code",
   "execution_count": 3,
   "metadata": {},
   "outputs": [
    {
     "name": "stdout",
     "output_type": "stream",
     "text": [
      "Downloading data...\n",
      "Unpacking files...\n",
      "Data loading finished!\n"
     ]
    }
   ],
   "source": [
    "# data loading\n",
    "\n",
    "X_train_raw, X_test, y_train_raw, y_test = load_data()"
   ]
  },
  {
   "cell_type": "markdown",
   "metadata": {},
   "source": [
    "## Data visualization"
   ]
  },
  {
   "cell_type": "markdown",
   "metadata": {},
   "source": [
    "#### Number of training and testing samples + Single Record Visualization"
   ]
  },
  {
   "cell_type": "code",
   "execution_count": 4,
   "metadata": {},
   "outputs": [
    {
     "name": "stdout",
     "output_type": "stream",
     "text": [
      "Num of our training samples: \t 47335\n",
      "Num of our testing samples: \t 7885\n"
     ]
    },
    {
     "data": {
      "image/png": "[encoded data removed]",
      "text/plain": [
       "<Figure size 432x432 with 1 Axes>"
      ]
     },
     "metadata": {
      "needs_background": "light"
     },
     "output_type": "display_data"
    }
   ],
   "source": [
    "print(\"Num of our training samples: \\t\", X_train_raw.shape[0])\n",
    "print(\"Num of our testing samples: \\t\", X_test.shape[0])\n",
    "\n",
    "number = np.reshape(X_train_raw[0], (28,28))\n",
    "\n",
    "plt.figure(figsize=(6, 6))\n",
    "plt.imshow(number, cmap='gray')\n",
    "plt.axis('off')\n",
    "plt.show()"
   ]
  },
  {
   "cell_type": "code",
   "execution_count": 5,
   "metadata": {},
   "outputs": [
    {
     "name": "stdout",
     "output_type": "stream",
     "text": [
      "[  0   0   0   0   0   0   0   0   0   0   0   0   0   0   0   0   0   0\n",
      "   0   0   0   0   0   0   0   0   0   0   0   0   0   0   0   0   0   0\n",
      "   0   0   0   0   0   0   0   0   0   0   0   0   0   0   0   0   0   0\n",
      "   0   0   0   0   0   0   0   0   0   0   0   0   0   0   0   0   0   0\n",
      "   0   0   0   0   0   0   0   0   0   0   0   0   0   0   0   0   0   0\n",
      "   0   0   0   0   0   0   0   0   0   0   0   0   0   0   0   0   0   0\n",
      "   0   0   0   0   0   0   0   0   0   0   0   0   0   0   0   0   0   0\n",
      "   0   0   0   0   0   0   0   0   0   0   0   0   0   0   0   0   0   0\n",
      "   0   0   0   0   0   0   0   0   3  18  18  18 126 136 175  26 166 255\n",
      " 247 127   0   0   0   0   0   0   0   0   0   0   0   0  30  36  94 154\n",
      " 170 253 253 253 253 253 225 172 253 242 195  64   0   0   0   0   0   0\n",
      "   0   0   0   0   0  49 238 253 253 253 253 253 253 253 253 251  93  82\n",
      "  82  56  39   0   0   0   0   0   0   0   0   0   0   0   0  18 219 253\n",
      " 253 253 253 253 198 182 247 241   0   0   0   0   0   0   0   0   0   0\n",
      "   0   0   0   0   0   0   0   0  80 156 107 253 253 205  11   0  43 154\n",
      "   0   0   0   0   0   0   0   0   0   0   0   0   0   0   0   0   0   0\n",
      "   0  14   1 154 253  90   0   0   0   0   0   0   0   0   0   0   0   0\n",
      "   0   0   0   0   0   0   0   0   0   0   0   0   0 139 253 190   2   0\n",
      "   0   0   0   0   0   0   0   0   0   0   0   0   0   0   0   0   0   0\n",
      "   0   0   0   0   0  11 190 253  70   0   0   0   0   0   0   0   0   0\n",
      "   0   0   0   0   0   0   0   0   0   0   0   0   0   0   0   0  35 241\n",
      " 225 160 108   1   0   0   0   0   0   0   0   0   0   0   0   0   0   0\n",
      "   0   0   0   0   0   0   0   0   0  81 240 253 253 119  25   0   0   0\n",
      "   0   0   0   0   0   0   0   0   0   0   0   0   0   0   0   0   0   0\n",
      "   0   0  45 186 253 253 150  27   0   0   0   0   0   0   0   0   0   0\n",
      "   0   0   0   0   0   0   0   0   0   0   0   0   0  16  93 252 253 187\n",
      "   0   0   0   0   0   0   0   0   0   0   0   0   0   0   0   0   0   0\n",
      "   0   0   0   0   0   0   0 249 253 249  64   0   0   0   0   0   0   0\n",
      "   0   0   0   0   0   0   0   0   0   0   0   0   0   0  46 130 183 253\n",
      " 253 207   2   0   0   0   0   0   0   0   0   0   0   0   0   0   0   0\n",
      "   0   0   0   0  39 148 229 253 253 253 250 182   0   0   0   0   0   0\n",
      "   0   0   0   0   0   0   0   0   0   0   0   0  24 114 221 253 253 253\n",
      " 253 201  78   0   0   0   0   0   0   0   0   0   0   0   0   0   0   0\n",
      "   0   0  23  66 213 253 253 253 253 198  81   2   0   0   0   0   0   0\n",
      "   0   0   0   0   0   0   0   0   0   0  18 171 219 253 253 253 253 195\n",
      "  80   9   0   0   0   0   0   0   0   0   0   0   0   0   0   0   0   0\n",
      "  55 172 226 253 253 253 253 244 133  11   0   0   0   0   0   0   0   0\n",
      "   0   0   0   0   0   0   0   0   0   0 136 253 253 253 212 135 132  16\n",
      "   0   0   0   0   0   0   0   0   0   0   0   0   0   0   0   0   0   0\n",
      "   0   0   0   0   0   0   0   0   0   0   0   0   0   0   0   0   0   0\n",
      "   0   0   0   0   0   0   0   0   0   0   0   0   0   0   0   0   0   0\n",
      "   0   0   0   0   0   0   0   0   0   0   0   0   0   0   0   0   0   0\n",
      "   0   0   0   0   0   0   0   0   0   0   0   0   0   0   0   0   0   0\n",
      "   0   0   0   0   0   0   0   0   0   0]\n"
     ]
    }
   ],
   "source": [
    "print(X_train_raw[0])"
   ]
  },
  {
   "cell_type": "markdown",
   "metadata": {},
   "source": [
    "#### Training sample\n",
    "\n",
    "##### Examples with labels attached"
   ]
  },
  {
   "cell_type": "code",
   "execution_count": 6,
   "metadata": {},
   "outputs": [
    {
     "data": {
      "image/png": "[encoded data removed]",
      "text/plain": [
       "<Figure size 1152x576 with 8 Axes>"
      ]
     },
     "metadata": {
      "needs_background": "light"
     },
     "output_type": "display_data"
    }
   ],
   "source": [
    "plt.figure(figsize=(16,8))\n",
    "\n",
    "for i, (X, label) in enumerate(zip(X_train_raw[0:8], y_train_raw[0:8])):\n",
    "    plt.subplot(2, 4, i + 1)\n",
    "    plt.title(f'Label: {label}', fontsize = 20)\n",
    "    plt.axis('off')\n",
    "    plt.imshow(np.reshape(X, (28,28)), cmap='gray')\n",
    "plt.show()"
   ]
  },
  {
   "cell_type": "markdown",
   "metadata": {},
   "source": [
    "#### Taking num of samples we want to train our model on "
   ]
  },
  {
   "cell_type": "code",
   "execution_count": 7,
   "metadata": {},
   "outputs": [],
   "source": [
    "num_of_samples = 10000\n",
    "\n",
    "X_train = X_train_raw[:num_of_samples]\n",
    "y_train = y_train_raw[:num_of_samples]"
   ]
  },
  {
   "cell_type": "markdown",
   "metadata": {},
   "source": [
    "## Default model efficienty\n",
    "\n",
    "#### Cross validation score determination on model with default parameters"
   ]
  },
  {
   "cell_type": "code",
   "execution_count": 8,
   "metadata": {},
   "outputs": [],
   "source": [
    "model = LogisticRegression()\n",
    "result = cross_val_score(model, X_train, y_train, cv=5, scoring='accuracy', error_score='raise')"
   ]
  },
  {
   "cell_type": "code",
   "execution_count": 9,
   "metadata": {},
   "outputs": [
    {
     "name": "stdout",
     "output_type": "stream",
     "text": [
      "Cross validation result\n",
      "[0.9125 0.881  0.912  0.8985 0.82  ]\n",
      "Cross validation mean\n",
      "0.8847999999999999\n"
     ]
    }
   ],
   "source": [
    "print('Cross validation result')\n",
    "print(result)\n",
    "print('Cross validation mean')\n",
    "print(np.mean(result))"
   ]
  },
  {
   "cell_type": "markdown",
   "metadata": {},
   "source": [
    "## Optimizers testing"
   ]
  },
  {
   "cell_type": "markdown",
   "metadata": {},
   "source": [
    "##### A Classification report is used to measure the quality of predictions from a classification algorithm. \n",
    "##### Main scores: \n",
    "##### **Precision** – What percent of your predictions were correct? (Precision = TP/(TP + FP))\n",
    "##### **Recall** – What percent of the positive cases did you catch? (Recall = TP/(TP+FN))\n",
    "##### **F1 score** – What percent of positive predictions were correct? (F1 Score = 2*(Recall * Precision) / (Recall + Precision))\n"
   ]
  },
  {
   "cell_type": "code",
   "execution_count": 10,
   "metadata": {},
   "outputs": [],
   "source": [
    "# appending all optimizers to check their efficiency\n",
    "\n",
    "optimizers = [\n",
    "    GradientDescentOptimizer(),\n",
    "    MomentumGradientDescentOptimizer(),\n",
    "    AdaGradOptimizer(),\n",
    "    RMSPropOptimizer()\n",
    "]"
   ]
  },
  {
   "cell_type": "code",
   "execution_count": 11,
   "metadata": {},
   "outputs": [
    {
     "name": "stdout",
     "output_type": "stream",
     "text": [
      "================================================================================\n",
      "                 GradientDescentOptimizer(learning_rate: 0.03)                  \n",
      "================================================================================\n",
      "              precision    recall  f1-score   support\n",
      "\n",
      "           0       0.91      0.91      0.91      3923\n",
      "           1       0.91      0.91      0.91      3962\n",
      "\n",
      "    accuracy                           0.91      7885\n",
      "   macro avg       0.91      0.91      0.91      7885\n",
      "weighted avg       0.91      0.91      0.91      7885\n",
      "\n",
      "================================================================================\n",
      "   MomentumGradientDescentOptimizer(learning_rate: 0.03, momentum_rate: 0.9)    \n",
      "================================================================================\n",
      "              precision    recall  f1-score   support\n",
      "\n",
      "           0       0.89      0.93      0.91      3923\n",
      "           1       0.93      0.89      0.91      3962\n",
      "\n",
      "    accuracy                           0.91      7885\n",
      "   macro avg       0.91      0.91      0.91      7885\n",
      "weighted avg       0.91      0.91      0.91      7885\n",
      "\n",
      "================================================================================\n",
      "             AdaGradOptimizer(learning_rate: 0.03, epsilon: 1e-07)              \n",
      "================================================================================\n",
      "              precision    recall  f1-score   support\n",
      "\n",
      "           0       0.91      0.92      0.91      3923\n",
      "           1       0.92      0.91      0.91      3962\n",
      "\n",
      "    accuracy                           0.91      7885\n",
      "   macro avg       0.91      0.91      0.91      7885\n",
      "weighted avg       0.91      0.91      0.91      7885\n",
      "\n",
      "================================================================================\n",
      "        RMSPropOptimizer(learning_rate: 0.03, beta: 0.9, epsilon: 1e-07)        \n",
      "================================================================================\n",
      "              precision    recall  f1-score   support\n",
      "\n",
      "           0       0.92      0.92      0.92      3923\n",
      "           1       0.92      0.92      0.92      3962\n",
      "\n",
      "    accuracy                           0.92      7885\n",
      "   macro avg       0.92      0.92      0.92      7885\n",
      "weighted avg       0.92      0.92      0.92      7885\n",
      "\n"
     ]
    }
   ],
   "source": [
    "# regularizer=RidgeRegularizer(), num_iterations=300, threshold=0.5, fit_intercept=True, verbose=False\n",
    "\n",
    "for optimizer in optimizers:\n",
    "    model = LogisticRegression(optimizer = optimizer)\n",
    "    model.fit(X_train_raw, y_train_raw)\n",
    "    y_pred = model.predict(X_test)\n",
    "    print(\"=\"*80)\n",
    "    print(str(optimizer).center(80, ' '))\n",
    "    print(\"=\"*80)\n",
    "    print(classification_report(y_test, y_pred))"
   ]
  },
  {
   "cell_type": "markdown",
   "metadata": {},
   "source": [
    "## Regularizers testing\n",
    "\n",
    "##### Regularizers allow you to apply penalties on layer parameters or layer activity during optimization. These penalties are summed into the loss function that the network optimizes. \n",
    "\n",
    "#### Optimizers implemented in our code:\n",
    "- `Lasso` (least absolute shrinkage and selection operator) - it is a regression analysis method that performs both variable selection and regularization in order to enhance the prediction accuracy and interpretability of the statistical model it produces.\n",
    "- `Ridge` - in general, the method provides improved efficiency in parameter estimation problems in exchange for a tolerable amount of bias.\n",
    "- `ElasticNet` - it is a regularized regression method that linearly combines the L1 and L2 penalties of the above *Lasso* and *Ridge* methods."
   ]
  },
  {
   "cell_type": "code",
   "execution_count": 12,
   "metadata": {},
   "outputs": [],
   "source": [
    "# appending all regularizers to check their efficiency\n",
    "\n",
    "regularizers = [\n",
    "    LassoRegularizer(),\n",
    "    RidgeRegularizer(),\n",
    "    ElasticNetRegularizer()\n",
    "]"
   ]
  },
  {
   "cell_type": "markdown",
   "metadata": {},
   "source": [
    "#### Below we test all three optimizers\n",
    "\n",
    "Default values provided to *LinearRegression* model are:\n",
    "- *num_iterations* = 300 <- number of iterations of the optimizer algorithm\n",
    "- *threshold* = 0.5 <- decision threshold\n",
    "- *fit_intercept* = True <- whether to calculate the intercept for this model\n",
    "- *verbose* = False <- output-related parameter"
   ]
  },
  {
   "cell_type": "code",
   "execution_count": 13,
   "metadata": {},
   "outputs": [
    {
     "name": "stdout",
     "output_type": "stream",
     "text": [
      "================================================================================\n",
      "        RMSPropOptimizer(learning_rate: 0.03, beta: 0.9, epsilon: 1e-07)        \n",
      "================================================================================\n",
      "              precision    recall  f1-score   support\n",
      "\n",
      "           0       0.93      0.89      0.91      3923\n",
      "           1       0.90      0.94      0.92      3962\n",
      "\n",
      "    accuracy                           0.92      7885\n",
      "   macro avg       0.92      0.91      0.91      7885\n",
      "weighted avg       0.92      0.92      0.91      7885\n",
      "\n",
      "================================================================================\n",
      "        RMSPropOptimizer(learning_rate: 0.03, beta: 0.9, epsilon: 1e-07)        \n",
      "================================================================================\n",
      "              precision    recall  f1-score   support\n",
      "\n",
      "           0       0.82      0.98      0.89      3923\n",
      "           1       0.97      0.78      0.87      3962\n",
      "\n",
      "    accuracy                           0.88      7885\n",
      "   macro avg       0.89      0.88      0.88      7885\n",
      "weighted avg       0.89      0.88      0.88      7885\n",
      "\n",
      "================================================================================\n",
      "        RMSPropOptimizer(learning_rate: 0.03, beta: 0.9, epsilon: 1e-07)        \n",
      "================================================================================\n",
      "              precision    recall  f1-score   support\n",
      "\n",
      "           0       0.90      0.94      0.92      3923\n",
      "           1       0.94      0.89      0.92      3962\n",
      "\n",
      "    accuracy                           0.92      7885\n",
      "   macro avg       0.92      0.92      0.92      7885\n",
      "weighted avg       0.92      0.92      0.92      7885\n",
      "\n"
     ]
    }
   ],
   "source": [
    "# optimizer = RMSPropOptimizer, num_iterations=300, threshold=0.5, fit_intercept=True, verbose=False\n",
    "\n",
    "for regularizer in regularizers:\n",
    "    model = LogisticRegression(regularizer = regularizer)\n",
    "    model.fit(X_train_raw, y_train_raw)\n",
    "    y_pred = model.predict(X_test)\n",
    "    print(\"=\"*80)\n",
    "    print(str(optimizer).center(80, ' '))\n",
    "    print(\"=\"*80)\n",
    "    print(classification_report(y_test, y_pred))"
   ]
  },
  {
   "cell_type": "markdown",
   "metadata": {},
   "source": [
    "### Different amounts of samples during model training\n",
    "\n",
    "#### In this section we check how different amount of samples affects the whole model and how it affects scores, precision etc."
   ]
  },
  {
   "cell_type": "code",
   "execution_count": 14,
   "metadata": {},
   "outputs": [
    {
     "name": "stdout",
     "output_type": "stream",
     "text": [
      "Number of all samples:  47335\n"
     ]
    }
   ],
   "source": [
    "print('Number of all samples: ', len(X_train_raw))"
   ]
  },
  {
   "cell_type": "code",
   "execution_count": 15,
   "metadata": {},
   "outputs": [],
   "source": [
    "num_of_samples = [5, 100, 500, 1000, 2000, 5000, 10000, 20000]"
   ]
  },
  {
   "cell_type": "markdown",
   "metadata": {},
   "source": [
    "##### Creating models with different sample number"
   ]
  },
  {
   "cell_type": "code",
   "execution_count": 16,
   "metadata": {},
   "outputs": [
    {
     "name": "stdout",
     "output_type": "stream",
     "text": [
      "====================\" 5 samples \"====================\n",
      "              precision    recall  f1-score   support\n",
      "\n",
      "           0       0.70      0.58      0.63      3923\n",
      "           1       0.64      0.75      0.70      3962\n",
      "\n",
      "    accuracy                           0.67      7885\n",
      "   macro avg       0.67      0.67      0.66      7885\n",
      "weighted avg       0.67      0.67      0.66      7885\n",
      "\n",
      "===================\" 100 samples \"===================\n",
      "              precision    recall  f1-score   support\n",
      "\n",
      "           0       0.76      0.90      0.82      3923\n",
      "           1       0.87      0.72      0.79      3962\n",
      "\n",
      "    accuracy                           0.81      7885\n",
      "   macro avg       0.82      0.81      0.81      7885\n",
      "weighted avg       0.82      0.81      0.81      7885\n",
      "\n",
      "===================\" 500 samples \"===================\n",
      "              precision    recall  f1-score   support\n",
      "\n",
      "           0       0.90      0.85      0.87      3923\n",
      "           1       0.86      0.90      0.88      3962\n",
      "\n",
      "    accuracy                           0.88      7885\n",
      "   macro avg       0.88      0.88      0.88      7885\n",
      "weighted avg       0.88      0.88      0.88      7885\n",
      "\n",
      "===================\" 1000 samples \"==================\n",
      "              precision    recall  f1-score   support\n",
      "\n",
      "           0       0.92      0.81      0.86      3923\n",
      "           1       0.83      0.93      0.88      3962\n",
      "\n",
      "    accuracy                           0.87      7885\n",
      "   macro avg       0.88      0.87      0.87      7885\n",
      "weighted avg       0.88      0.87      0.87      7885\n",
      "\n",
      "===================\" 2000 samples \"==================\n",
      "              precision    recall  f1-score   support\n",
      "\n",
      "           0       0.88      0.91      0.90      3923\n",
      "           1       0.91      0.88      0.90      3962\n",
      "\n",
      "    accuracy                           0.90      7885\n",
      "   macro avg       0.90      0.90      0.90      7885\n",
      "weighted avg       0.90      0.90      0.90      7885\n",
      "\n",
      "===================\" 5000 samples \"==================\n",
      "              precision    recall  f1-score   support\n",
      "\n",
      "           0       0.90      0.92      0.91      3923\n",
      "           1       0.92      0.90      0.91      3962\n",
      "\n",
      "    accuracy                           0.91      7885\n",
      "   macro avg       0.91      0.91      0.91      7885\n",
      "weighted avg       0.91      0.91      0.91      7885\n",
      "\n",
      "==================\" 10000 samples \"==================\n",
      "              precision    recall  f1-score   support\n",
      "\n",
      "           0       0.91      0.92      0.91      3923\n",
      "           1       0.92      0.91      0.91      3962\n",
      "\n",
      "    accuracy                           0.91      7885\n",
      "   macro avg       0.91      0.91      0.91      7885\n",
      "weighted avg       0.91      0.91      0.91      7885\n",
      "\n",
      "==================\" 20000 samples \"==================\n",
      "              precision    recall  f1-score   support\n",
      "\n",
      "           0       0.92      0.91      0.92      3923\n",
      "           1       0.91      0.92      0.92      3962\n",
      "\n",
      "    accuracy                           0.92      7885\n",
      "   macro avg       0.92      0.92      0.92      7885\n",
      "weighted avg       0.92      0.92      0.92      7885\n",
      "\n"
     ]
    }
   ],
   "source": [
    "for num in num_of_samples:\n",
    "    model = LogisticRegression()\n",
    "    model.fit(X_train_raw[:num], y_train_raw[:num])\n",
    "    y_pred = model.predict(X_test)\n",
    "    print(('\" '+ str(num) +' samples \"').center(53, '='))\n",
    "    print(classification_report(y_test, y_pred))"
   ]
  },
  {
   "cell_type": "markdown",
   "metadata": {},
   "source": [
    "### Different amounts of iterations during model training\n",
    "\n",
    "#### In this section we check how different amount of iterations affects the whole model and how it affects scores, precision etc."
   ]
  },
  {
   "cell_type": "code",
   "execution_count": 17,
   "metadata": {},
   "outputs": [],
   "source": [
    "num_of_iterations = [100, 300, 500, 1000, 3000]"
   ]
  },
  {
   "cell_type": "markdown",
   "metadata": {},
   "source": [
    "##### Creating models with different iteration number"
   ]
  },
  {
   "cell_type": "code",
   "execution_count": 18,
   "metadata": {},
   "outputs": [
    {
     "name": "stdout",
     "output_type": "stream",
     "text": [
      "==================\" 100 iterations \"=================\n",
      "              precision    recall  f1-score   support\n",
      "\n",
      "           0       0.97      0.58      0.73      3923\n",
      "           1       0.70      0.98      0.82      3962\n",
      "\n",
      "    accuracy                           0.78      7885\n",
      "   macro avg       0.84      0.78      0.78      7885\n",
      "weighted avg       0.84      0.78      0.78      7885\n",
      "\n",
      "==================\" 300 iterations \"=================\n",
      "              precision    recall  f1-score   support\n",
      "\n",
      "           0       0.97      0.35      0.51      3923\n",
      "           1       0.60      0.99      0.75      3962\n",
      "\n",
      "    accuracy                           0.67      7885\n",
      "   macro avg       0.79      0.67      0.63      7885\n",
      "weighted avg       0.79      0.67      0.63      7885\n",
      "\n",
      "==================\" 500 iterations \"=================\n",
      "              precision    recall  f1-score   support\n",
      "\n",
      "           0       0.93      0.87      0.90      3923\n",
      "           1       0.88      0.94      0.91      3962\n",
      "\n",
      "    accuracy                           0.90      7885\n",
      "   macro avg       0.91      0.90      0.90      7885\n",
      "weighted avg       0.91      0.90      0.90      7885\n",
      "\n",
      "=================\" 1000 iterations \"=================\n",
      "              precision    recall  f1-score   support\n",
      "\n",
      "           0       0.92      0.90      0.91      3923\n",
      "           1       0.90      0.92      0.91      3962\n",
      "\n",
      "    accuracy                           0.91      7885\n",
      "   macro avg       0.91      0.91      0.91      7885\n",
      "weighted avg       0.91      0.91      0.91      7885\n",
      "\n",
      "=================\" 3000 iterations \"=================\n",
      "              precision    recall  f1-score   support\n",
      "\n",
      "           0       0.92      0.89      0.90      3923\n",
      "           1       0.89      0.92      0.91      3962\n",
      "\n",
      "    accuracy                           0.90      7885\n",
      "   macro avg       0.91      0.90      0.90      7885\n",
      "weighted avg       0.91      0.90      0.90      7885\n",
      "\n"
     ]
    }
   ],
   "source": [
    "for num in num_of_iterations:\n",
    "    model = LogisticRegression(num_iterations=num)\n",
    "    model.fit(X_train, y_train)\n",
    "    y_pred = model.predict(X_test)\n",
    "    print(('\" '+ str(num) +' iterations \"').center(53, '='))\n",
    "    print(classification_report(y_test, y_pred))"
   ]
  },
  {
   "cell_type": "markdown",
   "metadata": {},
   "source": [
    "### Different thresholds during model training\n",
    "\n",
    "#### In this section we check how different amount of thresholds affects the whole model and how it affects scores, precision etc."
   ]
  },
  {
   "cell_type": "code",
   "execution_count": 19,
   "metadata": {},
   "outputs": [],
   "source": [
    "threshold = [0.3, 0.5, 0.65, 0.8]"
   ]
  },
  {
   "cell_type": "markdown",
   "metadata": {},
   "source": [
    "##### Creating models with different threshold"
   ]
  },
  {
   "cell_type": "code",
   "execution_count": 20,
   "metadata": {},
   "outputs": [
    {
     "name": "stdout",
     "output_type": "stream",
     "text": [
      "=================\" Threshold = 0.3 \"=================\n",
      "              precision    recall  f1-score   support\n",
      "\n",
      "           0       0.97      0.44      0.60      3923\n",
      "           1       0.64      0.99      0.78      3962\n",
      "\n",
      "    accuracy                           0.71      7885\n",
      "   macro avg       0.81      0.71      0.69      7885\n",
      "weighted avg       0.80      0.71      0.69      7885\n",
      "\n",
      "=================\" Threshold = 0.5 \"=================\n",
      "              precision    recall  f1-score   support\n",
      "\n",
      "           0       0.95      0.78      0.86      3923\n",
      "           1       0.82      0.96      0.88      3962\n",
      "\n",
      "    accuracy                           0.87      7885\n",
      "   macro avg       0.89      0.87      0.87      7885\n",
      "weighted avg       0.89      0.87      0.87      7885\n",
      "\n",
      "=================\" Threshold = 0.65 \"================\n",
      "              precision    recall  f1-score   support\n",
      "\n",
      "           0       0.79      0.98      0.87      3923\n",
      "           1       0.97      0.74      0.84      3962\n",
      "\n",
      "    accuracy                           0.86      7885\n",
      "   macro avg       0.88      0.86      0.86      7885\n",
      "weighted avg       0.88      0.86      0.86      7885\n",
      "\n",
      "=================\" Threshold = 0.8 \"=================\n",
      "              precision    recall  f1-score   support\n",
      "\n",
      "           0       0.94      0.88      0.91      3923\n",
      "           1       0.88      0.94      0.91      3962\n",
      "\n",
      "    accuracy                           0.91      7885\n",
      "   macro avg       0.91      0.91      0.91      7885\n",
      "weighted avg       0.91      0.91      0.91      7885\n",
      "\n"
     ]
    }
   ],
   "source": [
    "for thresh in threshold:\n",
    "    model = LogisticRegression(threshold=thresh)\n",
    "    model.fit(X_train, y_train)\n",
    "    y_pred = model.predict(X_test)\n",
    "    print(('\" Threshold = '+ str(thresh) +' \"').center(53, '='))\n",
    "    print(classification_report(y_test, y_pred))"
   ]
  }
 ],
 "metadata": {
  "kernelspec": {
   "display_name": "Python 3",
   "language": "python",
   "name": "python3"
  },
  "language_info": {
   "codemirror_mode": {
    "name": "ipython",
    "version": 3
   },
   "file_extension": ".py",
   "mimetype": "text/x-python",
   "name": "python",
   "nbconvert_exporter": "python",
   "pygments_lexer": "ipython3",
   "version": "3.7.4"
  }
 },
 "nbformat": 4,
 "nbformat_minor": 4
}
